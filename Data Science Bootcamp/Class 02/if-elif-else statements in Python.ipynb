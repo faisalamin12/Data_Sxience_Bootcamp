{
 "cells": [
  {
   "cell_type": "markdown",
   "id": "8ce909f3",
   "metadata": {},
   "source": [
    "### License Approval "
   ]
  },
  {
   "cell_type": "code",
   "execution_count": 7,
   "id": "8aecfb4d",
   "metadata": {},
   "outputs": [
    {
     "name": "stdout",
     "output_type": "stream",
     "text": [
      "Enter your age: 2\n",
      "You cant drive Sorry!!!\n"
     ]
    }
   ],
   "source": [
    "age = int(input(\"Enter your age: \"))\n",
    "\n",
    "if age < 0:\n",
    "    print(\"Invalid value\")\n",
    "elif age > 18:\n",
    "    print(\"You have Lisence You can drive\")\n",
    "elif age == 18:\n",
    "    print(\"Go and create Your Lisence now\")\n",
    "elif age < 18 and age > 0:\n",
    "    print(\"You cant drive Sorry!!!\")\n",
    "else:\n",
    "    print(\"Invalid Value\")"
   ]
  },
  {
   "cell_type": "markdown",
   "id": "d74b4c1c",
   "metadata": {},
   "source": [
    "## Calculator\n"
   ]
  },
  {
   "cell_type": "code",
   "execution_count": 19,
   "id": "1d2b9f4d",
   "metadata": {},
   "outputs": [
    {
     "name": "stdout",
     "output_type": "stream",
     "text": [
      "Enter First Number: 2\n",
      "Enter Operator: **\n",
      "Enter Second Number: 6\n",
      "The power of  2 is to the power 6 =  64\n"
     ]
    }
   ],
   "source": [
    "first_num = int(input(\"Enter First Number: \"))\n",
    "opr = input(\"Enter Operator: \")\n",
    "sec_num = int(input(\"Enter Second Number: \"))\n",
    "\n",
    "\n",
    "\n",
    "if opr == \"+\":\n",
    "    print(\"The result of \" , first_num ,\"+\" , sec_num , \"= \" , first_num + sec_num)\n",
    "elif opr == \"-\":\n",
    "    print(\"The result of \" , first_num ,\"-\" , sec_num , \"= \" , first_num - sec_num)\n",
    "elif opr == \"*\":\n",
    "    print(\"The result of \" , first_num ,\"x\" , sec_num , \"= \" , first_num * sec_num)\n",
    "elif opr == \"/\":\n",
    "    print(\"The result of \" , first_num ,\"/\" , sec_num , \"= \" , first_num / sec_num)\n",
    "elif opr == \"%\":\n",
    "    print(\"The remainder of \" , first_num ,\"and\" , sec_num , \"= \" , first_num % sec_num)\n",
    "elif opr == \"//\":\n",
    "    print(\"The result of \" , first_num ,\"//\" , sec_num , \"= \" , first_num // sec_num)\n",
    "elif opr == \"**\":\n",
    "    print(\"The power of \" , first_num ,\"is to the power\" , sec_num , \"= \" , first_num ** sec_num)\n",
    "else:\n",
    "    print(\"Enter Valid Operator\")"
   ]
  },
  {
   "cell_type": "code",
   "execution_count": null,
   "id": "75a1794a",
   "metadata": {},
   "outputs": [],
   "source": []
  },
  {
   "cell_type": "code",
   "execution_count": 27,
   "id": "7baba7ac",
   "metadata": {},
   "outputs": [],
   "source": [
    "import time\n",
    "\n",
    "t = int(time.strftime(\"%H\",time.localtime()))\n",
    "\n",
    "if t < 12 and t > 6:\n",
    "    print(\"Good Morning\")\n",
    "elif t > 12 and t < 16:\n",
    "    print(\"Good Afternoon\")\n",
    "elif t > 16 and t < 20:\n",
    "    print(\"Good Eveniing\")\n",
    "elif t > 20 and t < 6:\n",
    "    print(\"Good Night\")\n",
    "    "
   ]
  },
  {
   "cell_type": "code",
   "execution_count": null,
   "id": "50d82586",
   "metadata": {},
   "outputs": [],
   "source": []
  }
 ],
 "metadata": {
  "kernelspec": {
   "display_name": "Python 3 (ipykernel)",
   "language": "python",
   "name": "python3"
  },
  "language_info": {
   "codemirror_mode": {
    "name": "ipython",
    "version": 3
   },
   "file_extension": ".py",
   "mimetype": "text/x-python",
   "name": "python",
   "nbconvert_exporter": "python",
   "pygments_lexer": "ipython3",
   "version": "3.9.13"
  }
 },
 "nbformat": 4,
 "nbformat_minor": 5
}
