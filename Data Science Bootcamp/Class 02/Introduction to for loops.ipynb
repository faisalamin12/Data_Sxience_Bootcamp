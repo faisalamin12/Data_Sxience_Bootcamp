{
 "cells": [
  {
   "cell_type": "markdown",
   "id": "d76a0f25",
   "metadata": {},
   "source": [
    "# Introduction to Loops"
   ]
  },
  {
   "cell_type": "markdown",
   "id": "9def9c04",
   "metadata": {},
   "source": [
    "Sometimes a programmer wants to execute a group of statements a certain number of times. This can be done using loops. Based on this loops are further classified into following main types;\n",
    "\n",
    "1. For Loops\n",
    "2. While Loops"
   ]
  },
  {
   "cell_type": "code",
   "execution_count": 5,
   "id": "c23df340",
   "metadata": {},
   "outputs": [
    {
     "name": "stdout",
     "output_type": "stream",
     "text": [
      "2 x 0 = 0\n",
      "2 x 1 = 2\n",
      "2 x 2 = 4\n",
      "2 x 3 = 6\n",
      "2 x 4 = 8\n",
      "2 x 5 = 10\n",
      "2 x 6 = 12\n",
      "2 x 7 = 14\n",
      "2 x 8 = 16\n",
      "2 x 9 = 18\n"
     ]
    }
   ],
   "source": [
    "for i in range(10):\n",
    "    print(2 , \"x\" , i , \"=\" , 2*i)"
   ]
  },
  {
   "cell_type": "code",
   "execution_count": 4,
   "id": "53ef3c13",
   "metadata": {},
   "outputs": [
    {
     "name": "stdout",
     "output_type": "stream",
     "text": [
      "Enter Number: 6\n",
      "Enter Starting Range: 1\n",
      "End Range: 20\n",
      "6 x 1 = 6\n",
      "6 x 2 = 12\n",
      "6 x 3 = 18\n",
      "6 x 4 = 24\n",
      "6 x 5 = 30\n",
      "6 x 6 = 36\n",
      "6 x 7 = 42\n",
      "6 x 8 = 48\n",
      "6 x 9 = 54\n",
      "6 x 10 = 60\n",
      "6 x 11 = 66\n",
      "6 x 12 = 72\n",
      "6 x 13 = 78\n",
      "6 x 14 = 84\n",
      "6 x 15 = 90\n",
      "6 x 16 = 96\n",
      "6 x 17 = 102\n",
      "6 x 18 = 108\n",
      "6 x 19 = 114\n",
      "6 x 20 = 120\n"
     ]
    }
   ],
   "source": [
    "table_no = int(input(\"Enter Number: \"))\n",
    "start_range = int(input(\"Enter Starting Range: \"))\n",
    "end_range = int(input(\"End Range: \"))\n",
    "\n",
    "for i in range(start_range , end_range+1):\n",
    "    print(table_no , \"x\" , i , \"=\" , table_no * i)"
   ]
  },
  {
   "cell_type": "code",
   "execution_count": null,
   "id": "277ac6d3",
   "metadata": {},
   "outputs": [],
   "source": []
  }
 ],
 "metadata": {
  "kernelspec": {
   "display_name": "Python 3 (ipykernel)",
   "language": "python",
   "name": "python3"
  },
  "language_info": {
   "codemirror_mode": {
    "name": "ipython",
    "version": 3
   },
   "file_extension": ".py",
   "mimetype": "text/x-python",
   "name": "python",
   "nbconvert_exporter": "python",
   "pygments_lexer": "ipython3",
   "version": "3.11.5"
  }
 },
 "nbformat": 4,
 "nbformat_minor": 5
}
