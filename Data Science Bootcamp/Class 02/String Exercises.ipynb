{
 "cells": [
  {
   "cell_type": "markdown",
   "id": "a6ddb669",
   "metadata": {},
   "source": [
    "Accept the string from the user and diplay the string with first charactor of each word is capital\n",
    "\n",
    "Write a program to accept string from user and display n charactors from the left of a string\n",
    "\n",
    "Write a program to reverse string in Python"
   ]
  },
  {
   "cell_type": "code",
   "execution_count": null,
   "id": "24cad257",
   "metadata": {},
   "outputs": [],
   "source": []
  }
 ],
 "metadata": {
  "kernelspec": {
   "display_name": "Python 3 (ipykernel)",
   "language": "python",
   "name": "python3"
  },
  "language_info": {
   "codemirror_mode": {
    "name": "ipython",
    "version": 3
   },
   "file_extension": ".py",
   "mimetype": "text/x-python",
   "name": "python",
   "nbconvert_exporter": "python",
   "pygments_lexer": "ipython3",
   "version": "3.11.5"
  }
 },
 "nbformat": 4,
 "nbformat_minor": 5
}
