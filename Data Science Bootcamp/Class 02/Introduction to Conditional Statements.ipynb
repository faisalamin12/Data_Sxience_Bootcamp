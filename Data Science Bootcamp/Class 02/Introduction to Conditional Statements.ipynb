{
 "cells": [
  {
   "cell_type": "markdown",
   "id": "b7e626d5",
   "metadata": {
    "id": "b7e626d5"
   },
   "source": [
    "# if-else Statements"
   ]
  },
  {
   "cell_type": "markdown",
   "id": "1f7eb50a",
   "metadata": {
    "id": "1f7eb50a"
   },
   "source": [
    "Sometimes the programmer needs to check the evaluation of certain expression(s), whether the expression(s) evaluate to True or False. If the expression evaluates to False, then the program execution follows a different path than it would have if the expression had evaluated to True.\n",
    "\n",
    "Based on this, the conditional statements are further classified into following types:\n",
    "\n",
    "\n",
    "1. if\n",
    "2. if-else\n",
    "3. if-else-elif"
   ]
  },
  {
   "cell_type": "markdown",
   "id": "082b5b67",
   "metadata": {
    "id": "082b5b67"
   },
   "source": [
    "#### An if……else statement evaluates like this:\n",
    "\n",
    "##### if the expression evaluates True:\n",
    "\n",
    "Execute the block of code inside if statement. After execution return to the code out of the if……else block.\\\n",
    "\n",
    "##### if the expression evaluates False:\n",
    "\n",
    "Execute the block of code inside else statement. After execution return to the code out of the if……else block."
   ]
  },
  {
   "cell_type": "code",
   "execution_count": 1,
   "id": "2b0330a3",
   "metadata": {
    "id": "2b0330a3",
    "outputId": "6bbb0838-927a-47fa-9a3b-dfa23628183c"
   },
   "outputs": [
    {
     "name": "stdout",
     "output_type": "stream",
     "text": [
      "Alexa, do not add Apples to the cart.\n"
     ]
    }
   ],
   "source": [
    "applePrice = 210\n",
    "budget = 200\n",
    "if applePrice == budget:\n",
    "    print(\"Alexa, add 1 kg Apples to the cart.\")\n",
    "else:\n",
    "    print(\"Alexa, do not add Apples to the cart.\")"
   ]
  },
  {
   "cell_type": "code",
   "execution_count": 2,
   "id": "F9KM4pU8QvAt",
   "metadata": {
    "colab": {
     "base_uri": "https://localhost:8080/"
    },
    "executionInfo": {
     "elapsed": 380,
     "status": "ok",
     "timestamp": 1697003192610,
     "user": {
      "displayName": "Faisal Amin",
      "userId": "07618200051041167646"
     },
     "user_tz": -300
    },
    "id": "F9KM4pU8QvAt",
    "outputId": "3eb693ef-5bbe-4ac2-9882-2d91f7fb3fba"
   },
   "outputs": [
    {
     "name": "stdout",
     "output_type": "stream",
     "text": [
      "Values are not same\n"
     ]
    }
   ],
   "source": [
    "a = 4\n",
    "\n",
    "if a == 2:\n",
    "  print(\"Values are same\")\n",
    "\n",
    "else:\n",
    "   print(\"Values are not same\")"
   ]
  },
  {
   "cell_type": "code",
   "execution_count": null,
   "id": "YPy7eWNhR4Lx",
   "metadata": {
    "colab": {
     "base_uri": "https://localhost:8080/"
    },
    "executionInfo": {
     "elapsed": 611,
     "status": "ok",
     "timestamp": 1697003641888,
     "user": {
      "displayName": "Faisal Amin",
      "userId": "07618200051041167646"
     },
     "user_tz": -300
    },
    "id": "YPy7eWNhR4Lx",
    "outputId": "2ca785dc-2a0d-4703-91f3-39399d9ad2e0"
   },
   "outputs": [
    {
     "name": "stdout",
     "output_type": "stream",
     "text": [
      "Value is equal to zero\n"
     ]
    }
   ],
   "source": [
    "a = 0\n",
    "\n",
    "if a < 0:\n",
    "  print(\"Value is Negative\")\n",
    "elif a == 0:\n",
    "  print(\"Value is equal to zero\")\n",
    "\n",
    "else:\n",
    "  print(\"Value is Positive\")"
   ]
  },
  {
   "cell_type": "code",
   "execution_count": 5,
   "id": "a7e95931",
   "metadata": {},
   "outputs": [
    {
     "name": "stdout",
     "output_type": "stream",
     "text": [
      "Values are same\n",
      "Values are not same\n"
     ]
    }
   ],
   "source": [
    "a = 6\n",
    "\n",
    "if a == 6:\n",
    "    print(\"Values are same\")\n",
    "if a > 6:\n",
    "    print(\"value is greater than 6\")\n",
    "else:\n",
    "    print(\"Values are not same\")"
   ]
  },
  {
   "cell_type": "markdown",
   "id": "0e55a5e5",
   "metadata": {
    "id": "0e55a5e5"
   },
   "source": [
    "### elif Statements:\n",
    "\n",
    "Sometimes, the programmer may want to evaluate more than one condition, this can be done using an elif statement.\n",
    "\n",
    "\n",
    "### Working of an elif statement\n",
    "\n",
    "\n",
    "Execute the block of code inside if statement if the initial expression evaluates to True. After execution return to the code out of the if block.\n",
    "\n",
    "Execute the block of code inside the first elif statement if the expression inside it evaluates True. After execution return to the code out of the if block.\n",
    "\n",
    "Execute the block of code inside the second elif statement if the expression inside it evaluates True. After execution return to the code out of the if block.\n",
    "\n",
    "\n",
    "Execute the block of code inside the nth elif statement if the expression inside it evaluates True. After execution return to the code out of the if block.\n",
    "\n",
    "Execute the block of code inside else statement if none of the expression evaluates to True. After execution return to the code out of the if block."
   ]
  },
  {
   "cell_type": "code",
   "execution_count": null,
   "id": "39f4c626",
   "metadata": {
    "id": "39f4c626",
    "outputId": "96f6ec5f-52b0-423f-ee54-d516db5ba966"
   },
   "outputs": [
    {
     "name": "stdout",
     "output_type": "stream",
     "text": [
      "Number is Zero.\n"
     ]
    }
   ],
   "source": [
    "num = 0\n",
    "if (num < 0):\n",
    "    print(\"Number is negative.\")\n",
    "elif (num == 0):\n",
    "    print(\"Number is Zero.\")\n",
    "else:\n",
    "    print(\"Number is positive.\")"
   ]
  },
  {
   "cell_type": "code",
   "execution_count": 6,
   "id": "el10D5OWUhCa",
   "metadata": {
    "colab": {
     "base_uri": "https://localhost:8080/"
    },
    "executionInfo": {
     "elapsed": 5527,
     "status": "ok",
     "timestamp": 1697004225948,
     "user": {
      "displayName": "Faisal Amin",
      "userId": "07618200051041167646"
     },
     "user_tz": -300
    },
    "id": "el10D5OWUhCa",
    "outputId": "c48048f5-abc3-40ca-fc96-cf1b61865c12"
   },
   "outputs": [
    {
     "name": "stdout",
     "output_type": "stream",
     "text": [
      "Enter your age:18\n",
      "Go to NIC Office\n"
     ]
    }
   ],
   "source": [
    "a = int(input(\"Enter your age:\"))\n",
    "\n",
    "if a > 18:\n",
    "  print(\"You are eligible\")\n",
    "elif a == 18:\n",
    "  print(\"Go to NIC Office\")\n",
    "\n",
    "else:\n",
    "  print(\"You are not eligible\")"
   ]
  },
  {
   "cell_type": "markdown",
   "id": "4d2fb631",
   "metadata": {
    "id": "4d2fb631"
   },
   "source": [
    "\n",
    "\n"
   ]
  },
  {
   "cell_type": "code",
   "execution_count": null,
   "id": "a5-o_YIjVv-Z",
   "metadata": {
    "id": "a5-o_YIjVv-Z"
   },
   "outputs": [],
   "source": [
    "a = 12\n",
    "\n",
    "if a == 12:\n",
    "    print(\"VALUES ARE SAME\")\n",
    "    "
   ]
  },
  {
   "cell_type": "markdown",
   "id": "7654cd77",
   "metadata": {
    "id": "7654cd77"
   },
   "source": []
  },
  {
   "cell_type": "code",
   "execution_count": null,
   "id": "ab447f38",
   "metadata": {
    "colab": {
     "base_uri": "https://localhost:8080/"
    },
    "executionInfo": {
     "elapsed": 3439,
     "status": "ok",
     "timestamp": 1697004528352,
     "user": {
      "displayName": "Faisal Amin",
      "userId": "07618200051041167646"
     },
     "user_tz": -300
    },
    "id": "ab447f38",
    "outputId": "158caaff-241e-4b3c-b025-56ef01903c86"
   },
   "outputs": [
    {
     "name": "stdout",
     "output_type": "stream",
     "text": [
      "Entera value: 5\n",
      "Its Odd\n"
     ]
    }
   ],
   "source": [
    "a = int(input(\"Entera value: \"))\n",
    "\n",
    "if a % 2 == 0:\n",
    "  print(\"Its even number\")\n",
    "else:\n",
    "  print(\"Its Odd\")"
   ]
  },
  {
   "cell_type": "markdown",
   "id": "e7cf78f0",
   "metadata": {
    "id": "e7cf78f0"
   },
   "source": [
    "Write a Program for a Calculator"
   ]
  },
  {
   "cell_type": "code",
   "execution_count": 19,
   "id": "7e4cee5b",
   "metadata": {
    "colab": {
     "base_uri": "https://localhost:8080/"
    },
    "executionInfo": {
     "elapsed": 9342,
     "status": "ok",
     "timestamp": 1697008444121,
     "user": {
      "displayName": "Faisal Amin",
      "userId": "07618200051041167646"
     },
     "user_tz": -300
    },
    "id": "7e4cee5b",
    "outputId": "503cbfb6-dcb4-4b5d-ab5f-ee4a92ccb2f2"
   },
   "outputs": [
    {
     "name": "stdout",
     "output_type": "stream",
     "text": [
      "Enter a Number: 2\n",
      "Enter Operator: +\n",
      "Enter 2nd Number: 2\n",
      "4\n"
     ]
    }
   ],
   "source": [
    "num1 = int(input(\"Enter a Number: \"))\n",
    "opr = input(\"Enter Operator: \")\n",
    "num2 = int(input(\"Enter 2nd Number: \"))\n",
    "\n",
    "if opr == \"+\":\n",
    "  print(num1 + num2)\n",
    "elif opr == \"-\":\n",
    "  print(num1-num2)\n",
    "elif opr == \"*\":\n",
    "  print(num1*num2)\n",
    "elif opr == \"/\":\n",
    "  print(num1/num2)\n",
    "else:\n",
    "  print(\"invalid Input\")"
   ]
  },
  {
   "cell_type": "code",
   "execution_count": 20,
   "id": "R3T6UpZLd3tU",
   "metadata": {
    "colab": {
     "base_uri": "https://localhost:8080/"
    },
    "executionInfo": {
     "elapsed": 18,
     "status": "ok",
     "timestamp": 1697008505486,
     "user": {
      "displayName": "Faisal Amin",
      "userId": "07618200051041167646"
     },
     "user_tz": -300
    },
    "id": "R3T6UpZLd3tU",
    "outputId": "9438530b-00e3-434d-8d98-ab053e16a0ce"
   },
   "outputs": [
    {
     "name": "stdout",
     "output_type": "stream",
     "text": [
      "1\n",
      "2\n",
      "3\n",
      "4\n",
      "5\n",
      "6\n",
      "7\n",
      "8\n",
      "9\n"
     ]
    }
   ],
   "source": [
    "for i in range(1,10):\n",
    "  print(i)"
   ]
  },
  {
   "cell_type": "code",
   "execution_count": 21,
   "id": "ZW9BXHsPls09",
   "metadata": {
    "colab": {
     "base_uri": "https://localhost:8080/"
    },
    "executionInfo": {
     "elapsed": 16,
     "status": "ok",
     "timestamp": 1697008630633,
     "user": {
      "displayName": "Faisal Amin",
      "userId": "07618200051041167646"
     },
     "user_tz": -300
    },
    "id": "ZW9BXHsPls09",
    "outputId": "72e6b928-1283-45f1-fe1f-0039e7b055a7"
   },
   "outputs": [
    {
     "name": "stdout",
     "output_type": "stream",
     "text": [
      "F\n",
      "a\n",
      "i\n",
      "s\n",
      "a\n",
      "l\n"
     ]
    }
   ],
   "source": [
    "a = \"Faisal\"\n",
    "\n",
    "for i in a:\n",
    "  print(i)"
   ]
  },
  {
   "cell_type": "code",
   "execution_count": 31,
   "id": "Kxo1GEBHmLaU",
   "metadata": {
    "colab": {
     "base_uri": "https://localhost:8080/"
    },
    "executionInfo": {
     "elapsed": 372,
     "status": "ok",
     "timestamp": 1697010756118,
     "user": {
      "displayName": "Faisal Amin",
      "userId": "07618200051041167646"
     },
     "user_tz": -300
    },
    "id": "Kxo1GEBHmLaU",
    "outputId": "e1782da9-4d00-4b96-dbdc-e7c9c7de828d"
   },
   "outputs": [
    {
     "name": "stdout",
     "output_type": "stream",
     "text": [
      "2 x 1 = 1\n",
      "2 x 2 = 4\n",
      "2 x 3 = 9\n",
      "2 x 4 = 16\n",
      "2 x 5 = 25\n",
      "2 x 6 = 36\n",
      "2 x 7 = 49\n",
      "2 x 8 = 64\n",
      "2 x 9 = 81\n"
     ]
    }
   ],
   "source": [
    "for i in range(1, 10):\n",
    "  print(\"2 x\" , i , \"=\" ,  i**2)"
   ]
  },
  {
   "cell_type": "code",
   "execution_count": 24,
   "id": "IF_xGPs1m1VE",
   "metadata": {
    "colab": {
     "base_uri": "https://localhost:8080/"
    },
    "executionInfo": {
     "elapsed": 21186,
     "status": "ok",
     "timestamp": 1697009288428,
     "user": {
      "displayName": "Faisal Amin",
      "userId": "07618200051041167646"
     },
     "user_tz": -300
    },
    "id": "IF_xGPs1m1VE",
    "outputId": "827f92bb-e2cc-4d61-d31b-9de62374ad41"
   },
   "outputs": [
    {
     "name": "stdout",
     "output_type": "stream",
     "text": [
      "Enter a value for Table: 7\n",
      "Enter your starting range: 8\n",
      "Enter your end range: 15\n",
      "7 x 8 = 56\n",
      "7 x 9 = 63\n",
      "7 x 10 = 70\n",
      "7 x 11 = 77\n",
      "7 x 12 = 84\n",
      "7 x 13 = 91\n",
      "7 x 14 = 98\n",
      "7 x 15 = 105\n"
     ]
    }
   ],
   "source": [
    "a = int(input(\"Enter a value for Table: \"))\n",
    "\n",
    "str_range = int(input(\"Enter your starting range: \"))\n",
    "end_range = int(input(\"Enter your end range: \"))\n",
    "\n",
    "for i in range(str_range ,end_range + 1):\n",
    "  print(a , \"x\" , i , \"=\" , a * i)"
   ]
  },
  {
   "cell_type": "code",
   "execution_count": 29,
   "id": "aFHMhfKKoL6M",
   "metadata": {
    "colab": {
     "base_uri": "https://localhost:8080/",
     "height": 262
    },
    "executionInfo": {
     "elapsed": 5504,
     "status": "error",
     "timestamp": 1697010165784,
     "user": {
      "displayName": "Faisal Amin",
      "userId": "07618200051041167646"
     },
     "user_tz": -300
    },
    "id": "aFHMhfKKoL6M",
    "outputId": "fae03a4e-15e7-4378-bdf1-81d4bcf48638"
   },
   "outputs": [
    {
     "name": "stdout",
     "output_type": "stream",
     "text": [
      "Enter a number: h\n"
     ]
    },
    {
     "ename": "ValueError",
     "evalue": "ignored",
     "output_type": "error",
     "traceback": [
      "\u001b[0;31m---------------------------------------------------------------------------\u001b[0m",
      "\u001b[0;31mValueError\u001b[0m                                Traceback (most recent call last)",
      "\u001b[0;32m<ipython-input-29-914b82139188>\u001b[0m in \u001b[0;36m<cell line: 1>\u001b[0;34m()\u001b[0m\n\u001b[0;32m----> 1\u001b[0;31m \u001b[0mnum1\u001b[0m \u001b[0;34m=\u001b[0m \u001b[0mint\u001b[0m\u001b[0;34m(\u001b[0m\u001b[0minput\u001b[0m\u001b[0;34m(\u001b[0m\u001b[0;34m\"Enter a number: \"\u001b[0m\u001b[0;34m)\u001b[0m\u001b[0;34m)\u001b[0m\u001b[0;34m\u001b[0m\u001b[0;34m\u001b[0m\u001b[0m\n\u001b[0m\u001b[1;32m      2\u001b[0m \u001b[0mopr\u001b[0m \u001b[0;34m=\u001b[0m \u001b[0minput\u001b[0m\u001b[0;34m(\u001b[0m\u001b[0;34m\"Enter Operator: \"\u001b[0m\u001b[0;34m)\u001b[0m\u001b[0;34m\u001b[0m\u001b[0;34m\u001b[0m\u001b[0m\n\u001b[1;32m      3\u001b[0m \u001b[0mnum2\u001b[0m \u001b[0;34m=\u001b[0m \u001b[0mint\u001b[0m\u001b[0;34m(\u001b[0m\u001b[0minput\u001b[0m\u001b[0;34m(\u001b[0m\u001b[0;34m\"Enter a number: \"\u001b[0m\u001b[0;34m)\u001b[0m\u001b[0;34m)\u001b[0m\u001b[0;34m\u001b[0m\u001b[0;34m\u001b[0m\u001b[0m\n\u001b[1;32m      4\u001b[0m \u001b[0;34m\u001b[0m\u001b[0m\n\u001b[1;32m      5\u001b[0m \u001b[0;34m\u001b[0m\u001b[0m\n",
      "\u001b[0;31mValueError\u001b[0m: invalid literal for int() with base 10: 'h'"
     ]
    }
   ],
   "source": [
    "num1 = int(input(\"Enter a number: \"))\n",
    "opr = input(\"Enter Operator: \")\n",
    "num2 = int(input(\"Enter a number: \"))\n",
    "\n",
    "\n",
    "if opr == \"+\":\n",
    "  print(num1+num2)\n",
    "elif opr == \"-\":\n",
    "  print(num1-num2)\n",
    "elif opr == \"*\":\n",
    "  print(num1*num2)\n",
    "elif opr == \"/\":\n",
    "  print(num1/num2)\n",
    "else:\n",
    "  print(\"Enter a valid operator\")"
   ]
  },
  {
   "cell_type": "code",
   "execution_count": null,
   "id": "RnFGDgUdrMsS",
   "metadata": {
    "id": "RnFGDgUdrMsS"
   },
   "outputs": [],
   "source": [
    "4"
   ]
  }
 ],
 "metadata": {
  "colab": {
   "provenance": []
  },
  "kernelspec": {
   "display_name": "Python 3 (ipykernel)",
   "language": "python",
   "name": "python3"
  },
  "language_info": {
   "codemirror_mode": {
    "name": "ipython",
    "version": 3
   },
   "file_extension": ".py",
   "mimetype": "text/x-python",
   "name": "python",
   "nbconvert_exporter": "python",
   "pygments_lexer": "ipython3",
   "version": "3.11.5"
  }
 },
 "nbformat": 4,
 "nbformat_minor": 5
}
