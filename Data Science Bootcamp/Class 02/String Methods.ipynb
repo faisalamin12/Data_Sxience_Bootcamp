{
 "cells": [
  {
   "cell_type": "markdown",
   "id": "36ff2e8a",
   "metadata": {
    "id": "36ff2e8a"
   },
   "source": [
    "# String methods\n",
    "\n",
    "Python provides a set of built-in methods that we can use to alter and modify the strings.\n",
    "\n"
   ]
  },
  {
   "cell_type": "markdown",
   "id": "75d09e24",
   "metadata": {
    "id": "75d09e24"
   },
   "source": [
    "## upper() :\n",
    "The upper() method converts a string to upper case.\n",
    "\n"
   ]
  },
  {
   "cell_type": "code",
   "execution_count": 2,
   "id": "b32d8aac",
   "metadata": {
    "colab": {
     "base_uri": "https://localhost:8080/"
    },
    "executionInfo": {
     "elapsed": 26,
     "status": "ok",
     "timestamp": 1696836019742,
     "user": {
      "displayName": "Faisal Amin",
      "userId": "07618200051041167646"
     },
     "user_tz": -300
    },
    "id": "b32d8aac",
    "outputId": "ae57784d-22dc-4b88-9384-6cdd35d73293"
   },
   "outputs": [
    {
     "name": "stdout",
     "output_type": "stream",
     "text": [
      "ABCDEFGHIJ\n",
      "ABCDEFGHIJ\n"
     ]
    }
   ],
   "source": [
    "str1 = \"AbcDEfghIJ\"\n",
    "print(str1.upper())\n",
    "a = str1.upper()"
   ]
  },
  {
   "cell_type": "code",
   "execution_count": null,
   "id": "e7275687",
   "metadata": {
    "id": "e7275687",
    "outputId": "01c3fb0a-3701-4a66-ba4e-9e9a6cd06378"
   },
   "outputs": [
    {
     "name": "stdout",
     "output_type": "stream",
     "text": [
      "HELLO WORLD!\n"
     ]
    }
   ],
   "source": [
    "str2 = \"Hello world!\"\n",
    "print(str2.upper())"
   ]
  },
  {
   "cell_type": "markdown",
   "id": "2fbba4ad",
   "metadata": {
    "id": "2fbba4ad"
   },
   "source": [
    "## lower()\n",
    "The lower() method converts a string to lower case.\n",
    "\n"
   ]
  },
  {
   "cell_type": "code",
   "execution_count": null,
   "id": "b704a2b6",
   "metadata": {
    "id": "b704a2b6",
    "outputId": "87ee9f8b-c985-4415-97dc-211a95d65a87"
   },
   "outputs": [
    {
     "name": "stdout",
     "output_type": "stream",
     "text": [
      "abcdefghij\n"
     ]
    }
   ],
   "source": [
    "str1 = \"AbcDEfghIJ\"\n",
    "print(str1.lower())"
   ]
  },
  {
   "cell_type": "code",
   "execution_count": null,
   "id": "64c1d0f1",
   "metadata": {
    "id": "64c1d0f1",
    "outputId": "7aec4a1e-9041-4a69-df07-7d556f644079"
   },
   "outputs": [
    {
     "name": "stdout",
     "output_type": "stream",
     "text": [
      "python\n"
     ]
    }
   ],
   "source": [
    "str2 = \"PYTHON\"\n",
    "\n",
    "print(str2.lower())"
   ]
  },
  {
   "cell_type": "code",
   "execution_count": null,
   "id": "01d4c637",
   "metadata": {
    "id": "01d4c637",
    "outputId": "b7d3dc37-533b-4d05-b05c-df680d4c5d61"
   },
   "outputs": [
    {
     "data": {
      "text/plain": [
       "'PYTHON'"
      ]
     },
     "execution_count": 6,
     "metadata": {},
     "output_type": "execute_result"
    }
   ],
   "source": [
    "str2 # These functions will not change the actual strings"
   ]
  },
  {
   "cell_type": "markdown",
   "id": "dbb0a6e7",
   "metadata": {
    "id": "dbb0a6e7"
   },
   "source": [
    "## replace() :\n",
    "The replace() method replaces all occurences of a string with another string\n",
    "\n"
   ]
  },
  {
   "cell_type": "code",
   "execution_count": 4,
   "id": "92f83a78",
   "metadata": {
    "id": "92f83a78",
    "outputId": "847e5054-8f67-4d63-e61a-c03c6dab00d2"
   },
   "outputs": [
    {
     "data": {
      "text/plain": [
       "'Umar Akmal'"
      ]
     },
     "execution_count": 4,
     "metadata": {},
     "output_type": "execute_result"
    }
   ],
   "source": [
    "cricketer = \"Kamran Akmal\"\n",
    "cricketer.replace(\"Kamran\" , \"Umar\")\n",
    "\n"
   ]
  },
  {
   "cell_type": "code",
   "execution_count": null,
   "id": "9c914bc1",
   "metadata": {
    "id": "9c914bc1",
    "outputId": "c08bf195-794b-43ff-f1de-ab75f0b92004"
   },
   "outputs": [
    {
     "data": {
      "text/plain": [
       "'Kamran Akmal'"
      ]
     },
     "execution_count": 9,
     "metadata": {},
     "output_type": "execute_result"
    }
   ],
   "source": [
    "cricketer #These functions will not change the actual strings\n"
   ]
  },
  {
   "cell_type": "markdown",
   "id": "ab65c4cd",
   "metadata": {
    "id": "ab65c4cd"
   },
   "source": [
    "## split() :\n",
    "\n",
    "\n",
    "The split() method splits the given string at the specified instance and returns the separated strings as list items.\n",
    "\n"
   ]
  },
  {
   "cell_type": "code",
   "execution_count": 6,
   "id": "b58c4eab",
   "metadata": {
    "id": "b58c4eab",
    "outputId": "b5f2cb3e-9d5d-4fdd-d281-8895633c3999"
   },
   "outputs": [
    {
     "data": {
      "text/plain": [
       "['Hello', 'World', 'Country']"
      ]
     },
     "execution_count": 6,
     "metadata": {},
     "output_type": "execute_result"
    }
   ],
   "source": [
    "a = \"Hello2World2Country\"\n",
    "a.split(\"2\") # split the string when finds whitespace"
   ]
  },
  {
   "cell_type": "markdown",
   "id": "366cb6e3",
   "metadata": {
    "id": "366cb6e3"
   },
   "source": [
    "# capitalize() :\n",
    "\n",
    "\n",
    "The capitalize() method turns only the first character of the string to uppercase and the rest other characters of the string are turned to lowercase. The string has no effect if the first character is already uppercase.\n",
    "\n"
   ]
  },
  {
   "cell_type": "code",
   "execution_count": null,
   "id": "1630d816",
   "metadata": {
    "id": "1630d816",
    "outputId": "498c2034-ead0-42da-f303-ce2a62110590"
   },
   "outputs": [
    {
     "name": "stdout",
     "output_type": "stream",
     "text": [
      "Hello\n",
      "Hello world\n"
     ]
    }
   ],
   "source": [
    "str1 = \"hello\"\n",
    "capStr1 = str1.capitalize()\n",
    "print(capStr1)\n",
    "str2 = \"hello WorlD\"\n",
    "capStr2 = str2.capitalize()\n",
    "print(capStr2)"
   ]
  },
  {
   "cell_type": "markdown",
   "id": "9ca24006",
   "metadata": {
    "id": "9ca24006"
   },
   "source": [
    "## count() :\n",
    "\n",
    "\n",
    "The count() method returns the number of times the given value has occurred within the given string.\n",
    "\n"
   ]
  },
  {
   "cell_type": "code",
   "execution_count": 7,
   "id": "7cb9a34f",
   "metadata": {
    "colab": {
     "base_uri": "https://localhost:8080/"
    },
    "executionInfo": {
     "elapsed": 397,
     "status": "ok",
     "timestamp": 1696836172928,
     "user": {
      "displayName": "Faisal Amin",
      "userId": "07618200051041167646"
     },
     "user_tz": -300
    },
    "id": "7cb9a34f",
    "outputId": "e868a512-1d83-413e-f562-e6eb0fc529cf"
   },
   "outputs": [
    {
     "name": "stdout",
     "output_type": "stream",
     "text": [
      "3\n"
     ]
    }
   ],
   "source": [
    "a = \"Hello World!\"\n",
    "print(a.count(\"l\"))"
   ]
  },
  {
   "cell_type": "markdown",
   "id": "56f1b56b",
   "metadata": {
    "id": "56f1b56b"
   },
   "source": [
    "## endswith() :\n",
    "The endswith() method checks if the string ends with a given value. If yes then return True, else return False.\n",
    "\n"
   ]
  },
  {
   "cell_type": "code",
   "execution_count": 9,
   "id": "-S5PjCS3UUcG",
   "metadata": {
    "colab": {
     "base_uri": "https://localhost:8080/"
    },
    "executionInfo": {
     "elapsed": 372,
     "status": "ok",
     "timestamp": 1696836219117,
     "user": {
      "displayName": "Faisal Amin",
      "userId": "07618200051041167646"
     },
     "user_tz": -300
    },
    "id": "-S5PjCS3UUcG",
    "outputId": "bc603f6b-bbab-43d3-ad35-3c6c6b7499c1"
   },
   "outputs": [
    {
     "name": "stdout",
     "output_type": "stream",
     "text": [
      "False\n"
     ]
    }
   ],
   "source": [
    "a = \"Hello\"\n",
    "print(a.endswith(\"l\"))"
   ]
  },
  {
   "cell_type": "code",
   "execution_count": null,
   "id": "VVv-1waBWvAF",
   "metadata": {
    "colab": {
     "base_uri": "https://localhost:8080/"
    },
    "executionInfo": {
     "elapsed": 4,
     "status": "ok",
     "timestamp": 1696836924947,
     "user": {
      "displayName": "Faisal Amin",
      "userId": "07618200051041167646"
     },
     "user_tz": -300
    },
    "id": "VVv-1waBWvAF",
    "outputId": "287c512b-fcea-421c-f7de-d29d8292dd5c"
   },
   "outputs": [
    {
     "name": "stdout",
     "output_type": "stream",
     "text": [
      "HELLO\n",
      "hello\n",
      "Hello\n"
     ]
    }
   ],
   "source": [
    "a = \"Hello\"\n",
    "print(a.upper())\n",
    "print(a.lower())\n",
    "print(a.capitalize())\n"
   ]
  },
  {
   "cell_type": "code",
   "execution_count": 10,
   "id": "7a9d40e7",
   "metadata": {
    "id": "7a9d40e7",
    "outputId": "d0dada0e-a5af-4798-93ff-3c93e5d64061"
   },
   "outputs": [
    {
     "name": "stdout",
     "output_type": "stream",
     "text": [
      "True\n"
     ]
    }
   ],
   "source": [
    "str1 = \"Welcome to the Console \"\n",
    "print(str1.endswith(\" \"))"
   ]
  },
  {
   "cell_type": "markdown",
   "id": "062a6a04",
   "metadata": {
    "id": "062a6a04"
   },
   "source": [
    "We can even also check for a value in-between the string by providing start and end index positions.\n",
    "\n"
   ]
  },
  {
   "cell_type": "code",
   "execution_count": null,
   "id": "daa0ed2f",
   "metadata": {
    "id": "daa0ed2f",
    "outputId": "7b35904a-9ca3-4bde-9f00-e576b07cfd42"
   },
   "outputs": [
    {
     "name": "stdout",
     "output_type": "stream",
     "text": [
      "False\n"
     ]
    }
   ],
   "source": [
    "str1 = \"Hello Pakistan !!!\"\n",
    "print(str1.endswith(\"n\", 4, 10))"
   ]
  },
  {
   "cell_type": "markdown",
   "id": "2d5961d2",
   "metadata": {
    "id": "2d5961d2"
   },
   "source": [
    "## find() :\n",
    "The find() method searches for the first occurrence of the given value and returns the index where it is present. If given value is absent from the string then return -1.\n",
    "\n"
   ]
  },
  {
   "cell_type": "code",
   "execution_count": 11,
   "id": "55d2d4a7",
   "metadata": {
    "id": "55d2d4a7",
    "outputId": "b832778d-ab19-4eba-c1a9-a16bf23a8507"
   },
   "outputs": [
    {
     "name": "stdout",
     "output_type": "stream",
     "text": [
      "-1\n"
     ]
    }
   ],
   "source": [
    "str1 = \"He's name is Dan. He is an honest man.\"\n",
    "print(str1.find(\"Faisal\"))"
   ]
  },
  {
   "cell_type": "markdown",
   "id": "6fca33f6",
   "metadata": {
    "id": "6fca33f6"
   },
   "source": [
    "## isalnum() :\n",
    "The isalnum() method returns True only if the entire string only consists of A-Z, a-z, 0-9. If any other characters or punctuations are present, then it returns False.\n",
    "\n"
   ]
  },
  {
   "cell_type": "code",
   "execution_count": null,
   "id": "d1826ccc",
   "metadata": {
    "id": "d1826ccc",
    "outputId": "22ace33c-bb2c-4738-86c9-375114dbe589"
   },
   "outputs": [
    {
     "name": "stdout",
     "output_type": "stream",
     "text": [
      "True\n"
     ]
    }
   ],
   "source": [
    "str1 = \"WelcomeToTheConsole\"\n",
    "print(str1.isalnum())"
   ]
  },
  {
   "cell_type": "markdown",
   "id": "32e6213c",
   "metadata": {
    "id": "32e6213c"
   },
   "source": [
    "## isalpha() :\n",
    "The isalnum() method returns True only if the entire string only consists of A-Z, a-z. If any other characters or punctuations or numbers(0-9) are present, then it returns False.\n",
    "\n"
   ]
  },
  {
   "cell_type": "code",
   "execution_count": 12,
   "id": "81029fe1",
   "metadata": {
    "id": "81029fe1",
    "outputId": "8b419b78-3b79-43df-e2d6-2ed93a80ed14"
   },
   "outputs": [
    {
     "name": "stdout",
     "output_type": "stream",
     "text": [
      "False\n"
     ]
    }
   ],
   "source": [
    "str1 = \"hello world\"\n",
    "print(str1.isalpha())"
   ]
  },
  {
   "cell_type": "markdown",
   "id": "8903630b",
   "metadata": {
    "id": "8903630b"
   },
   "source": [
    "## islower() :\n",
    "The islower() method returns True if all the characters in the string are lower case, else it returns False.\n",
    "\n"
   ]
  },
  {
   "cell_type": "code",
   "execution_count": null,
   "id": "f86dff23",
   "metadata": {
    "id": "f86dff23",
    "outputId": "14d441e2-e1e0-4ae2-f5c8-33c21155c5bf"
   },
   "outputs": [
    {
     "name": "stdout",
     "output_type": "stream",
     "text": [
      "True\n"
     ]
    }
   ],
   "source": [
    "str1 = \"hello world\"\n",
    "print(str1.islower())"
   ]
  }
 ],
 "metadata": {
  "colab": {
   "provenance": []
  },
  "kernelspec": {
   "display_name": "Python 3 (ipykernel)",
   "language": "python",
   "name": "python3"
  },
  "language_info": {
   "codemirror_mode": {
    "name": "ipython",
    "version": 3
   },
   "file_extension": ".py",
   "mimetype": "text/x-python",
   "name": "python",
   "nbconvert_exporter": "python",
   "pygments_lexer": "ipython3",
   "version": "3.11.5"
  }
 },
 "nbformat": 4,
 "nbformat_minor": 5
}
