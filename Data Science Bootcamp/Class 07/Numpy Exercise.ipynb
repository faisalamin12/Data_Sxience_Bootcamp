{
 "cells": [
  {
   "cell_type": "markdown",
   "id": "17195586",
   "metadata": {},
   "source": [
    "# Numpy Exercise\n",
    "\n",
    "1. Write a NumPy program to create a 3x3 matrix with values ranging from 2 to 10.\n",
    "\n",
    "2. Write a NumPy program to reverse an array (the first element becomes the last).\n",
    "Original array:\n",
    "\n",
    "[12 13 14 15 16 17 18 19 20 21 22 23 24 25 26 27 28 29 30 31 32 33 34 35 36 37]\n",
    "\n",
    "Reverse array:\n",
    "\n",
    "[37 36 35 34 33 32 31 30 29 28 27 26 25 24 23 22 21 20 19 18 17 16 15 14 13 12]\n",
    "\n",
    "3. Write a NumPy program to convert an array to a floating type.\n",
    "\n",
    "Sample output:\n",
    "\n",
    "Original array\n",
    "\n",
    "[1, 2, 3, 4]\n",
    "Array converted to a float type:\n",
    "\n",
    "[ 1. 2. 3. 4.]\n",
    "\n",
    "4. Given are 2 similar dimensional numpy arrays, how to get a numpy array output in which every element is an element-wise sum of the 2 numpy arrays?\n",
    "\n",
    "5. From 2 numpy arrays, extract the indexes in which the elements in the 2 arrays match\n",
    "\n"
   ]
  },
  {
   "cell_type": "code",
   "execution_count": 1,
   "id": "cf365d1d",
   "metadata": {},
   "outputs": [
    {
     "name": "stdout",
     "output_type": "stream",
     "text": [
      "[[ 2  3  4]\n",
      " [ 5  6  7]\n",
      " [ 8  9 10]]\n"
     ]
    }
   ],
   "source": [
    "import numpy as np\n",
    "mat = np.arange(2,11).reshape(3,3)\n",
    "print(mat)"
   ]
  },
  {
   "cell_type": "code",
   "execution_count": 2,
   "id": "01e02ebf",
   "metadata": {},
   "outputs": [
    {
     "name": "stdout",
     "output_type": "stream",
     "text": [
      "(array([2], dtype=int64),)\n"
     ]
    }
   ],
   "source": [
    "arr1 = np.array([1,2,3,4,5])\n",
    "arr2 = np.array([6,7,3,9,10])\n",
    "match = np.where(arr1 == arr2)\n",
    "print(match)"
   ]
  },
  {
   "cell_type": "code",
   "execution_count": null,
   "id": "7b5582ed",
   "metadata": {},
   "outputs": [],
   "source": []
  }
 ],
 "metadata": {
  "kernelspec": {
   "display_name": "Python 3 (ipykernel)",
   "language": "python",
   "name": "python3"
  },
  "language_info": {
   "codemirror_mode": {
    "name": "ipython",
    "version": 3
   },
   "file_extension": ".py",
   "mimetype": "text/x-python",
   "name": "python",
   "nbconvert_exporter": "python",
   "pygments_lexer": "ipython3",
   "version": "3.11.5"
  }
 },
 "nbformat": 4,
 "nbformat_minor": 5
}
