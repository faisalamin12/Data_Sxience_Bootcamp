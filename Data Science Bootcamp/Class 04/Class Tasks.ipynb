{
 "cells": [
  {
   "cell_type": "markdown",
   "id": "73cb7bd5",
   "metadata": {},
   "source": [
    "# Sets in Python Tasks"
   ]
  },
  {
   "cell_type": "markdown",
   "id": "6a25d72b",
   "metadata": {},
   "source": [
    "1. Write a Python program to remove an item from a set if it is present in the set.\n",
    "\n",
    "2. Write a Python program to remove items 10, 20, 30 from the following set\n",
    "\n",
    "set1 = {10, 20, 30, 40, 50}\n",
    "\n",
    "3. Check if two sets have any elements in common. If yes, display the common elements\n",
    "\n",
    "set1 = {10, 20, 30, 40, 50}\n",
    "set2 = {60, 70, 80, 90, 10}\n",
    "\n",
    "4. Update set1 by adding items from set2, except common items\n",
    "\n",
    "\n",
    "set1 = {10, 20, 30, 40, 50}\n",
    "set2 = {30, 40, 50, 60, 70}\n",
    "\n",
    "5. Remove items from set1 that are not common to both set1 and set2\n",
    "\n",
    "\n",
    "set1 = {10, 20, 30, 40, 50}\n",
    "set2 = {30, 40, 50, 60, 70}"
   ]
  },
  {
   "cell_type": "markdown",
   "id": "5119b781",
   "metadata": {},
   "source": [
    "# Dictionaries in Python Tasks"
   ]
  },
  {
   "cell_type": "markdown",
   "id": "91b7497b",
   "metadata": {},
   "source": [
    "1. Write a Python script to check whether a given key already exists in a dictionary.\n",
    "\n",
    "2. Write a Python program to combine two dictionary by adding values for common keys.\n",
    "\n",
    "d1 = {'a': 100, 'b': 200, 'c':300}\n",
    "\n",
    "d2 = {'a': 300, 'b': 200, 'd':400}\n",
    "\n",
    "3. Below are the two lists. Write a Python program to convert them into a dictionary in a way that item from list1 is the key and item from list2 is the value\n",
    "\n",
    "keys = ['Ten', 'Twenty', 'Thirty']\n",
    "\n",
    "values = [10, 20, 30]\n",
    "\n",
    "4. Delete a list of keys from a dictionary\n",
    "Given:\n",
    "\n",
    "sample_dict = {\n",
    "    \"name\": \"Kelly\",\n",
    "    \"age\": 25,\n",
    "    \"salary\": 8000,\n",
    "    \"city\": \"New york\"\n",
    "}\n",
    "\n",
    "\n",
    "Keys to remove\n",
    "\n",
    "keys = [\"name\", \"salary\"]\n",
    "\n",
    "5. Write a Python program to check if value 200 exists in the following dictionary.\n",
    "\n",
    "\n",
    "sample_dict = {'a': 100, 'b': 200, 'c': 300}"
   ]
  },
  {
   "cell_type": "code",
   "execution_count": null,
   "id": "55e77326",
   "metadata": {},
   "outputs": [],
   "source": []
  }
 ],
 "metadata": {
  "kernelspec": {
   "display_name": "Python 3 (ipykernel)",
   "language": "python",
   "name": "python3"
  },
  "language_info": {
   "codemirror_mode": {
    "name": "ipython",
    "version": 3
   },
   "file_extension": ".py",
   "mimetype": "text/x-python",
   "name": "python",
   "nbconvert_exporter": "python",
   "pygments_lexer": "ipython3",
   "version": "3.11.5"
  }
 },
 "nbformat": 4,
 "nbformat_minor": 5
}
