{
 "cells": [
  {
   "cell_type": "markdown",
   "id": "046dffb8",
   "metadata": {},
   "source": [
    "# Sets in Python\n",
    "Sets are unordered collection of data items. They store multiple items in a single variable. Set items are separated by commas and enclosed within curly brackets {}. Sets are unchangeable, meaning you cannot change items of the set once created. Sets do not contain duplicate items."
   ]
  },
  {
   "cell_type": "code",
   "execution_count": 2,
   "id": "333038ee",
   "metadata": {},
   "outputs": [
    {
     "name": "stdout",
     "output_type": "stream",
     "text": [
      "{False, 19, 5.9, 'abc'}\n",
      "{10, 20, 30}\n"
     ]
    }
   ],
   "source": [
    "info = {\"abc\", 19, False, 5.9, 19}\n",
    "print(info)\n",
    "\n",
    "set_1 =  {10 , 20 , 10 , 30}\n",
    "print(set_1)"
   ]
  },
  {
   "cell_type": "markdown",
   "id": "3f7788e6",
   "metadata": {},
   "source": [
    "Here we see that the items of set occur in random order and hence they cannot be accessed using index numbers. Also sets do not allow duplicate values."
   ]
  },
  {
   "cell_type": "markdown",
   "id": "afd4c127",
   "metadata": {},
   "source": [
    "### Accessing set items:"
   ]
  },
  {
   "cell_type": "code",
   "execution_count": 5,
   "id": "af184fd9",
   "metadata": {},
   "outputs": [
    {
     "name": "stdout",
     "output_type": "stream",
     "text": [
      "False\n",
      "19\n",
      "5.9\n",
      "abc\n"
     ]
    }
   ],
   "source": [
    "info = {\"abc\", 19, False, 5.9}\n",
    "for item in info:\n",
    "    print(item)"
   ]
  },
  {
   "cell_type": "markdown",
   "id": "5569da6b",
   "metadata": {},
   "source": [
    "### Joining Sets\n",
    "\n",
    "Sets in python more or less work in the same way as sets in mathematics. We can perform operations like union and intersection on the sets just like in mathematics."
   ]
  },
  {
   "cell_type": "markdown",
   "id": "d2904a55",
   "metadata": {},
   "source": [
    "## I. union() and update():\n",
    "\n",
    "The union() and update() methods prints all items that are present in the two sets. The union() method returns a new set whereas update() method adds item into the existing set from another set.\n",
    "\n"
   ]
  },
  {
   "cell_type": "code",
   "execution_count": 5,
   "id": "d434dd9e",
   "metadata": {},
   "outputs": [
    {
     "name": "stdout",
     "output_type": "stream",
     "text": [
      "{'Tokyo', 'Seoul', 'Madrid', 'Berlin', 'Delhi', 'Kabul'}\n"
     ]
    }
   ],
   "source": [
    "cities = {\"Tokyo\", \"Madrid\", \"Berlin\", \"Delhi\"}\n",
    "cities2 = {\"Tokyo\", \"Seoul\", \"Kabul\", \"Madrid\"}\n",
    "cities3 = cities.union(cities2)\n",
    "print(cities3)"
   ]
  },
  {
   "cell_type": "code",
   "execution_count": 6,
   "id": "253c0d11",
   "metadata": {},
   "outputs": [
    {
     "name": "stdout",
     "output_type": "stream",
     "text": [
      "{'Tokyo', 'Seoul', 'Madrid', 'Berlin', 'Delhi', 'Kabul'}\n"
     ]
    }
   ],
   "source": [
    "cities = {\"Tokyo\", \"Madrid\", \"Berlin\", \"Delhi\"}\n",
    "cities2 = {\"Tokyo\", \"Seoul\", \"Kabul\", \"Madrid\"}\n",
    "cities.update(cities2)\n",
    "print(cities)"
   ]
  },
  {
   "cell_type": "markdown",
   "id": "b77d04d4",
   "metadata": {},
   "source": [
    "### II. intersection and intersection_update():\n",
    "\n",
    "The intersection() and intersection_update() methods prints only items that are similar to both the sets. The intersection() method returns a new set whereas intersection_update() method updates into the existing set from another set."
   ]
  },
  {
   "cell_type": "code",
   "execution_count": 7,
   "id": "a5eda9e5",
   "metadata": {},
   "outputs": [
    {
     "name": "stdout",
     "output_type": "stream",
     "text": [
      "{'Tokyo', 'Madrid'}\n"
     ]
    }
   ],
   "source": [
    "cities = {\"Tokyo\", \"Madrid\", \"Berlin\", \"Delhi\"}\n",
    "cities2 = {\"Tokyo\", \"Seoul\", \"Kabul\", \"Madrid\"}\n",
    "cities3 = cities.intersection(cities2)\n",
    "print(cities3)"
   ]
  },
  {
   "cell_type": "code",
   "execution_count": 8,
   "id": "96ea8655",
   "metadata": {},
   "outputs": [
    {
     "name": "stdout",
     "output_type": "stream",
     "text": [
      "{'Tokyo', 'Madrid'}\n"
     ]
    }
   ],
   "source": [
    "cities = {\"Tokyo\", \"Madrid\", \"Berlin\", \"Delhi\"}\n",
    "cities2 = {\"Tokyo\", \"Seoul\", \"Kabul\", \"Madrid\"}\n",
    "cities.intersection_update(cities2)\n",
    "print(cities)"
   ]
  },
  {
   "cell_type": "markdown",
   "id": "cb45fc4e",
   "metadata": {},
   "source": [
    "# Set Methods"
   ]
  },
  {
   "cell_type": "markdown",
   "id": "01fbc0f4",
   "metadata": {},
   "source": [
    "If you want to add a single item to the set use the add() method."
   ]
  },
  {
   "cell_type": "code",
   "execution_count": 9,
   "id": "5968f818",
   "metadata": {},
   "outputs": [
    {
     "name": "stdout",
     "output_type": "stream",
     "text": [
      "{'Tokyo', 'Madrid', 'Berlin', 'Delhi', 'Helsinki'}\n"
     ]
    }
   ],
   "source": [
    "cities = {\"Tokyo\", \"Madrid\", \"Berlin\", \"Delhi\"}\n",
    "cities.add(\"Helsinki\")\n",
    "print(cities)"
   ]
  },
  {
   "cell_type": "markdown",
   "id": "28f5e8e0",
   "metadata": {},
   "source": [
    "### update()\n",
    "If you want to add more than one item, simply create another set or any other iterable object(list, tuple, dictionary), and use the update() method to add it into the existing set."
   ]
  },
  {
   "cell_type": "code",
   "execution_count": 10,
   "id": "6745713c",
   "metadata": {},
   "outputs": [
    {
     "name": "stdout",
     "output_type": "stream",
     "text": [
      "{'Tokyo', 'Delhi', 'Seoul', 'Madrid', 'Berlin', 'Helsinki', 'Warsaw'}\n"
     ]
    }
   ],
   "source": [
    "cities = {\"Tokyo\", \"Madrid\", \"Berlin\", \"Delhi\"}\n",
    "cities2 = {\"Helsinki\", \"Warsaw\", \"Seoul\"}\n",
    "cities.update(cities2)\n",
    "print(cities)"
   ]
  },
  {
   "cell_type": "markdown",
   "id": "6999672f",
   "metadata": {},
   "source": [
    "### remove()\n",
    "We can use remove() and discard() methods to remove items form list."
   ]
  },
  {
   "cell_type": "code",
   "execution_count": 6,
   "id": "716a70ff",
   "metadata": {},
   "outputs": [
    {
     "name": "stdout",
     "output_type": "stream",
     "text": [
      "{'Berlin', 'Madrid', 'Delhi'}\n"
     ]
    }
   ],
   "source": [
    "cities = {\"Tokyo\", \"Madrid\", \"Berlin\", \"Delhi\"}\n",
    "cities.remove(\"Tokyo\")\n",
    "print(cities)"
   ]
  },
  {
   "cell_type": "code",
   "execution_count": 12,
   "id": "67d03eb6",
   "metadata": {},
   "outputs": [
    {
     "ename": "KeyError",
     "evalue": "'Seoul'",
     "output_type": "error",
     "traceback": [
      "\u001b[1;31m---------------------------------------------------------------------------\u001b[0m",
      "\u001b[1;31mKeyError\u001b[0m                                  Traceback (most recent call last)",
      "Cell \u001b[1;32mIn[12], line 2\u001b[0m\n\u001b[0;32m      1\u001b[0m cities \u001b[38;5;241m=\u001b[39m {\u001b[38;5;124m\"\u001b[39m\u001b[38;5;124mTokyo\u001b[39m\u001b[38;5;124m\"\u001b[39m, \u001b[38;5;124m\"\u001b[39m\u001b[38;5;124mMadrid\u001b[39m\u001b[38;5;124m\"\u001b[39m, \u001b[38;5;124m\"\u001b[39m\u001b[38;5;124mBerlin\u001b[39m\u001b[38;5;124m\"\u001b[39m, \u001b[38;5;124m\"\u001b[39m\u001b[38;5;124mDelhi\u001b[39m\u001b[38;5;124m\"\u001b[39m}\n\u001b[1;32m----> 2\u001b[0m cities\u001b[38;5;241m.\u001b[39mremove(\u001b[38;5;124m\"\u001b[39m\u001b[38;5;124mSeoul\u001b[39m\u001b[38;5;124m\"\u001b[39m)\n\u001b[0;32m      3\u001b[0m \u001b[38;5;28mprint\u001b[39m(cities)\n",
      "\u001b[1;31mKeyError\u001b[0m: 'Seoul'"
     ]
    }
   ],
   "source": [
    "cities = {\"Tokyo\", \"Madrid\", \"Berlin\", \"Delhi\"}\n",
    "cities.remove(\"Seoul\")\n",
    "print(cities)"
   ]
  },
  {
   "cell_type": "markdown",
   "id": "909058b7",
   "metadata": {},
   "source": [
    "### pop()\n",
    "This method removes the last item of the set but the catch is that we don’t know which item gets popped as sets are unordered. However, you can access the popped item if you assign the pop() method to a variable."
   ]
  },
  {
   "cell_type": "code",
   "execution_count": 13,
   "id": "ef8a1c27",
   "metadata": {},
   "outputs": [
    {
     "name": "stdout",
     "output_type": "stream",
     "text": [
      "{'Tokyo', 'Delhi', 'Madrid'}\n",
      "Berlin\n"
     ]
    }
   ],
   "source": [
    "cities = {\"Tokyo\", \"Madrid\", \"Berlin\", \"Delhi\"}\n",
    "item = cities.pop()\n",
    "print(cities)\n",
    "print(item)"
   ]
  },
  {
   "cell_type": "markdown",
   "id": "bdaa4e25",
   "metadata": {},
   "source": [
    "### del\n",
    "del is not a method, rather it is a keyword which deletes the set entirely."
   ]
  },
  {
   "cell_type": "code",
   "execution_count": 14,
   "id": "c1a6e2a9",
   "metadata": {},
   "outputs": [
    {
     "ename": "NameError",
     "evalue": "name 'cities' is not defined",
     "output_type": "error",
     "traceback": [
      "\u001b[1;31m---------------------------------------------------------------------------\u001b[0m",
      "\u001b[1;31mNameError\u001b[0m                                 Traceback (most recent call last)",
      "Cell \u001b[1;32mIn[14], line 3\u001b[0m\n\u001b[0;32m      1\u001b[0m cities \u001b[38;5;241m=\u001b[39m {\u001b[38;5;124m\"\u001b[39m\u001b[38;5;124mTokyo\u001b[39m\u001b[38;5;124m\"\u001b[39m, \u001b[38;5;124m\"\u001b[39m\u001b[38;5;124mMadrid\u001b[39m\u001b[38;5;124m\"\u001b[39m, \u001b[38;5;124m\"\u001b[39m\u001b[38;5;124mBerlin\u001b[39m\u001b[38;5;124m\"\u001b[39m, \u001b[38;5;124m\"\u001b[39m\u001b[38;5;124mDelhi\u001b[39m\u001b[38;5;124m\"\u001b[39m}\n\u001b[0;32m      2\u001b[0m \u001b[38;5;28;01mdel\u001b[39;00m cities\n\u001b[1;32m----> 3\u001b[0m \u001b[38;5;28mprint\u001b[39m(cities)\n",
      "\u001b[1;31mNameError\u001b[0m: name 'cities' is not defined"
     ]
    }
   ],
   "source": [
    "cities = {\"Tokyo\", \"Madrid\", \"Berlin\", \"Delhi\"}\n",
    "del cities\n",
    "print(cities)"
   ]
  },
  {
   "cell_type": "markdown",
   "id": "71f96c7f",
   "metadata": {},
   "source": [
    "NameError: name 'cities' is not defined We get an error because our entire set has been deleted and there is no variable called cities which contains a set.\n",
    "\n",
    "What if we don’t want to delete the entire set, we just want to delete all items within that set?"
   ]
  },
  {
   "cell_type": "markdown",
   "id": "4fb2a2e6",
   "metadata": {},
   "source": [
    "### clear():\n",
    "This method clears all items in the set and prints an empty set."
   ]
  },
  {
   "cell_type": "code",
   "execution_count": 15,
   "id": "10efb3eb",
   "metadata": {},
   "outputs": [
    {
     "name": "stdout",
     "output_type": "stream",
     "text": [
      "set()\n"
     ]
    }
   ],
   "source": [
    "cities = {\"Tokyo\", \"Madrid\", \"Berlin\", \"Delhi\"}\n",
    "cities.clear()\n",
    "print(cities)"
   ]
  },
  {
   "cell_type": "markdown",
   "id": "62908abc",
   "metadata": {},
   "source": [
    "### Check if item exists\n",
    "You can also check if an item exists in the set or not."
   ]
  },
  {
   "cell_type": "code",
   "execution_count": 16,
   "id": "79b579cf",
   "metadata": {},
   "outputs": [
    {
     "name": "stdout",
     "output_type": "stream",
     "text": [
      "abc is absent.\n"
     ]
    }
   ],
   "source": [
    "info = {\"Carla\", 19, False, 5.9}\n",
    "if \"abc\" in info:\n",
    "    print(\"abc is present.\")\n",
    "else:\n",
    "    print(\"abc is absent.\")"
   ]
  },
  {
   "cell_type": "code",
   "execution_count": null,
   "id": "97b86a0d",
   "metadata": {},
   "outputs": [],
   "source": []
  }
 ],
 "metadata": {
  "kernelspec": {
   "display_name": "Python 3 (ipykernel)",
   "language": "python",
   "name": "python3"
  },
  "language_info": {
   "codemirror_mode": {
    "name": "ipython",
    "version": 3
   },
   "file_extension": ".py",
   "mimetype": "text/x-python",
   "name": "python",
   "nbconvert_exporter": "python",
   "pygments_lexer": "ipython3",
   "version": "3.11.5"
  }
 },
 "nbformat": 4,
 "nbformat_minor": 5
}
