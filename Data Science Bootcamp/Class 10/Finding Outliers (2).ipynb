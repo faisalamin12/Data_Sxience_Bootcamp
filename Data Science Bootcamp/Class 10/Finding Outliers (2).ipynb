{
 "cells": [
  {
   "cell_type": "code",
   "execution_count": 1,
   "metadata": {
    "executionInfo": {
     "elapsed": 25,
     "status": "ok",
     "timestamp": 1697570633728,
     "user": {
      "displayName": "Faisal Amin",
      "userId": "07618200051041167646"
     },
     "user_tz": 420
    },
    "id": "UwrdXLBomd5M"
   },
   "outputs": [],
   "source": [
    "### Outliers"
   ]
  },
  {
   "cell_type": "code",
   "execution_count": 2,
   "metadata": {
    "executionInfo": {
     "elapsed": 20,
     "status": "ok",
     "timestamp": 1697570633729,
     "user": {
      "displayName": "Faisal Amin",
      "userId": "07618200051041167646"
     },
     "user_tz": 420
    },
    "id": "eAomTAQ1mjzA"
   },
   "outputs": [],
   "source": [
    "import numpy as np\n",
    "import matplotlib.pyplot as plt\n",
    "%matplotlib inline\n"
   ]
  },
  {
   "cell_type": "code",
   "execution_count": 3,
   "metadata": {
    "executionInfo": {
     "elapsed": 19,
     "status": "ok",
     "timestamp": 1697570633730,
     "user": {
      "displayName": "Faisal Amin",
      "userId": "07618200051041167646"
     },
     "user_tz": 420
    },
    "id": "L5VNbz7xmuAn"
   },
   "outputs": [],
   "source": [
    "## Define our dataset\n",
    "dataset= [11,10,12,14,12,15,14,13,15,102,12,14,17,19,107, 10,13,12,14,12,108,12,11,14,13,15,10,15,12,10,14,13,15,10]"
   ]
  },
  {
   "cell_type": "code",
   "execution_count": 4,
   "metadata": {
    "colab": {
     "base_uri": "https://localhost:8080/",
     "height": 499
    },
    "executionInfo": {
     "elapsed": 22,
     "status": "ok",
     "timestamp": 1697570637534,
     "user": {
      "displayName": "Faisal Amin",
      "userId": "07618200051041167646"
     },
     "user_tz": 420
    },
    "id": "IcP4jXLOocG9",
    "outputId": "0e86f571-f2c0-42f4-c16e-561e8ff2b10d"
   },
   "outputs": [
    {
     "data": {
      "text/plain": [
       "(array([31.,  0.,  0.,  0.,  0.,  0.,  0.,  0.,  0.,  3.]),\n",
       " array([ 10. ,  19.8,  29.6,  39.4,  49.2,  59. ,  68.8,  78.6,  88.4,\n",
       "         98.2, 108. ]),\n",
       " <BarContainer object of 10 artists>)"
      ]
     },
     "execution_count": 4,
     "metadata": {},
     "output_type": "execute_result"
    },
    {
     "data": {
      "image/png": "[encoded data removed]",
      "text/plain": [
       "<Figure size 640x480 with 1 Axes>"
      ]
     },
     "metadata": {},
     "output_type": "display_data"
    }
   ],
   "source": [
    "plt.hist(dataset)"
   ]
  },
  {
   "cell_type": "markdown",
   "metadata": {
    "id": "lgrPCsYQpcKC"
   },
   "source": [
    "#IQR\n",
    "1. Sort the data\n",
    "2. Calculate Q1 aqnd Q3\n",
    "3. IQR(Q3-Q1)\n",
    "4. Find the Lower fence(q1-1.5(iqr))\n",
    "5. Find the upper fence(q3+1.5(iqr))"
   ]
  },
  {
   "cell_type": "code",
   "execution_count": 5,
   "metadata": {
    "colab": {
     "base_uri": "https://localhost:8080/"
    },
    "executionInfo": {
     "elapsed": 4,
     "status": "ok",
     "timestamp": 1697570641183,
     "user": {
      "displayName": "Faisal Amin",
      "userId": "07618200051041167646"
     },
     "user_tz": 420
    },
    "id": "LWIdK5cGo2PQ",
    "outputId": "8e2a9136-f61b-4eb0-8ed6-8fe3f8c8eea1"
   },
   "outputs": [
    {
     "data": {
      "text/plain": [
       "[10,\n",
       " 10,\n",
       " 10,\n",
       " 10,\n",
       " 10,\n",
       " 11,\n",
       " 11,\n",
       " 12,\n",
       " 12,\n",
       " 12,\n",
       " 12,\n",
       " 12,\n",
       " 12,\n",
       " 12,\n",
       " 13,\n",
       " 13,\n",
       " 13,\n",
       " 13,\n",
       " 14,\n",
       " 14,\n",
       " 14,\n",
       " 14,\n",
       " 14,\n",
       " 14,\n",
       " 15,\n",
       " 15,\n",
       " 15,\n",
       " 15,\n",
       " 15,\n",
       " 17,\n",
       " 19,\n",
       " 102,\n",
       " 107,\n",
       " 108]"
      ]
     },
     "execution_count": 5,
     "metadata": {},
     "output_type": "execute_result"
    }
   ],
   "source": [
    "dataset=sorted(dataset)\n",
    "dataset\n",
    "\n"
   ]
  },
  {
   "cell_type": "code",
   "execution_count": 6,
   "metadata": {
    "executionInfo": {
     "elapsed": 10,
     "status": "ok",
     "timestamp": 1697570644687,
     "user": {
      "displayName": "Faisal Amin",
      "userId": "07618200051041167646"
     },
     "user_tz": 420
    },
    "id": "5X9HvLnSp6qM"
   },
   "outputs": [],
   "source": [
    "q1,q3=np.percentile(dataset,[25,75])"
   ]
  },
  {
   "cell_type": "code",
   "execution_count": 7,
   "metadata": {
    "colab": {
     "base_uri": "https://localhost:8080/"
    },
    "executionInfo": {
     "elapsed": 12,
     "status": "ok",
     "timestamp": 1697570647727,
     "user": {
      "displayName": "Faisal Amin",
      "userId": "07618200051041167646"
     },
     "user_tz": 420
    },
    "id": "XtS2-_bRqF3N",
    "outputId": "7147509e-78ca-4d2b-d3fc-6236aaabc010"
   },
   "outputs": [
    {
     "name": "stdout",
     "output_type": "stream",
     "text": [
      "12.0 15.0\n"
     ]
    }
   ],
   "source": [
    "print(q1,q3)"
   ]
  },
  {
   "cell_type": "code",
   "execution_count": 8,
   "metadata": {
    "colab": {
     "base_uri": "https://localhost:8080/"
    },
    "executionInfo": {
     "elapsed": 10,
     "status": "ok",
     "timestamp": 1697570651737,
     "user": {
      "displayName": "Faisal Amin",
      "userId": "07618200051041167646"
     },
     "user_tz": 420
    },
    "id": "2pXqb-wgqWa7",
    "outputId": "0201017f-3fcb-4b92-b142-46dda3870364"
   },
   "outputs": [
    {
     "name": "stdout",
     "output_type": "stream",
     "text": [
      "3.0\n"
     ]
    }
   ],
   "source": [
    "iqr=q3-q1\n",
    "print(iqr)"
   ]
  },
  {
   "cell_type": "code",
   "execution_count": 9,
   "metadata": {
    "executionInfo": {
     "elapsed": 1465,
     "status": "ok",
     "timestamp": 1697570658480,
     "user": {
      "displayName": "Faisal Amin",
      "userId": "07618200051041167646"
     },
     "user_tz": 420
    },
    "id": "yvAm3AEpqH6g"
   },
   "outputs": [],
   "source": [
    "## Find the lower fence and higher fence\n",
    "lower_fence=q1-(1.5*iqr)\n",
    "higher_fence=q3+(1.5* iqr)"
   ]
  },
  {
   "cell_type": "code",
   "execution_count": 10,
   "metadata": {
    "colab": {
     "base_uri": "https://localhost:8080/"
    },
    "executionInfo": {
     "elapsed": 10,
     "status": "ok",
     "timestamp": 1697570660464,
     "user": {
      "displayName": "Faisal Amin",
      "userId": "07618200051041167646"
     },
     "user_tz": 420
    },
    "id": "-zVLfeHtqhon",
    "outputId": "97360228-eeb7-4e84-be6b-97efea0f5668"
   },
   "outputs": [
    {
     "name": "stdout",
     "output_type": "stream",
     "text": [
      "7.5 19.5\n"
     ]
    }
   ],
   "source": [
    "print(lower_fence,higher_fence)"
   ]
  },
  {
   "cell_type": "code",
   "execution_count": 11,
   "metadata": {
    "executionInfo": {
     "elapsed": 1562,
     "status": "ok",
     "timestamp": 1697570665087,
     "user": {
      "displayName": "Faisal Amin",
      "userId": "07618200051041167646"
     },
     "user_tz": 420
    },
    "id": "k4HSrcGjqksX"
   },
   "outputs": [],
   "source": [
    "import seaborn as sns\n"
   ]
  },
  {
   "cell_type": "code",
   "execution_count": 12,
   "metadata": {
    "colab": {
     "base_uri": "https://localhost:8080/",
     "height": 447
    },
    "executionInfo": {
     "elapsed": 510,
     "status": "ok",
     "timestamp": 1697570668203,
     "user": {
      "displayName": "Faisal Amin",
      "userId": "07618200051041167646"
     },
     "user_tz": 420
    },
    "id": "U8yZdzpBq3-t",
    "outputId": "6446c562-8904-4a4b-a6aa-e61c8bdffc3b"
   },
   "outputs": [
    {
     "data": {
      "text/plain": [
       "<Axes: >"
      ]
     },
     "execution_count": 12,
     "metadata": {},
     "output_type": "execute_result"
    },
    {
     "data": {
      "image/png": "[encoded data removed]",
      "text/plain": [
       "<Figure size 640x480 with 1 Axes>"
      ]
     },
     "metadata": {},
     "output_type": "display_data"
    }
   ],
   "source": [
    "sns.boxplot(dataset)"
   ]
  },
  {
   "cell_type": "code",
   "execution_count": null,
   "metadata": {
    "id": "xmQGwEYWq9hx"
   },
   "outputs": [],
   "source": []
  }
 ],
 "metadata": {
  "colab": {
   "provenance": []
  },
  "kernelspec": {
   "display_name": "Python 3 (ipykernel)",
   "language": "python",
   "name": "python3"
  },
  "language_info": {
   "codemirror_mode": {
    "name": "ipython",
    "version": 3
   },
   "file_extension": ".py",
   "mimetype": "text/x-python",
   "name": "python",
   "nbconvert_exporter": "python",
   "pygments_lexer": "ipython3",
   "version": "3.11.5"
  }
 },
 "nbformat": 4,
 "nbformat_minor": 1
}
