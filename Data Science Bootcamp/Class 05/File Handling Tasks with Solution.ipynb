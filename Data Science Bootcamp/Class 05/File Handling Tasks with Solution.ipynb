{
 "cells": [
  {
   "cell_type": "markdown",
   "id": "bb7a2d71",
   "metadata": {
    "id": "bb7a2d71"
   },
   "source": [
    "#### 1. Write a Python program to read an entire text file.\n",
    "\n",
    "#### 2. Write a Python program to append text to a file and display the text.\n",
    "\n",
    "#### 3. Write a Python program to read a file line by line and store it into a list.\n",
    "\n",
    "#### 4. Write a python program to find the longest words."
   ]
  },
  {
   "cell_type": "markdown",
   "id": "3fde217a",
   "metadata": {
    "id": "3fde217a"
   },
   "source": [
    "### Task 01:"
   ]
  },
  {
   "cell_type": "markdown",
   "id": "db7f3571",
   "metadata": {
    "id": "db7f3571"
   },
   "source": [
    "## Task 02"
   ]
  },
  {
   "cell_type": "code",
   "execution_count": null,
   "id": "c7d94e53",
   "metadata": {
    "id": "c7d94e53",
    "outputId": "d52c9ac2-2f2f-488d-a7bc-2d1ec5b8a460"
   },
   "outputs": [
    {
     "name": "stdout",
     "output_type": "stream",
     "text": [
      "\n"
     ]
    }
   ],
   "source": [
    "with open(\"hello.txt\", \"w\") as myfile:\n",
    "    myfile.write(\"Python Exercises\\n\")\n",
    "    myfile.write(\"Hello World!\")\n",
    "    txt = open(\"hello.txt\")\n",
    "    print(txt.read())"
   ]
  },
  {
   "cell_type": "markdown",
   "id": "1ea9e6a8",
   "metadata": {
    "id": "1ea9e6a8"
   },
   "source": [
    "## Task 03:"
   ]
  },
  {
   "cell_type": "code",
   "execution_count": null,
   "id": "a6062cab",
   "metadata": {
    "id": "a6062cab",
    "outputId": "01c4bbcd-539c-46a3-da76-7c809a4754bd"
   },
   "outputs": [
    {
     "name": "stdout",
     "output_type": "stream",
     "text": [
      "['Python Exercises\\n', 'Hello World!']\n"
     ]
    }
   ],
   "source": [
    "with open(\"hello.txt\") as f:\n",
    "    content_list = f.readlines()\n",
    "    print(content_list)"
   ]
  },
  {
   "cell_type": "markdown",
   "id": "751bf0ac",
   "metadata": {
    "id": "751bf0ac"
   },
   "source": [
    "## Task 04"
   ]
  },
  {
   "cell_type": "code",
   "execution_count": null,
   "id": "b52d1c7b",
   "metadata": {
    "id": "b52d1c7b",
    "outputId": "f2bf9968-b113-4634-fc7a-bc83ffb593d7"
   },
   "outputs": [
    {
     "name": "stdout",
     "output_type": "stream",
     "text": [
      "['Exercises']\n"
     ]
    }
   ],
   "source": [
    "def longest_word(filename):\n",
    "    with open(filename, 'r') as infile:\n",
    "              words = infile.read().split()\n",
    "    max_len = len(max(words, key=len))\n",
    "    return [word for word in words if len(word) == max_len]\n",
    "\n",
    "print(longest_word('hello.txt'))"
   ]
  },
  {
   "cell_type": "code",
   "execution_count": null,
   "id": "6319e51f",
   "metadata": {
    "id": "6319e51f"
   },
   "outputs": [],
   "source": []
  }
 ],
 "metadata": {
  "colab": {
   "provenance": []
  },
  "kernelspec": {
   "display_name": "Python 3 (ipykernel)",
   "language": "python",
   "name": "python3"
  },
  "language_info": {
   "codemirror_mode": {
    "name": "ipython",
    "version": 3
   },
   "file_extension": ".py",
   "mimetype": "text/x-python",
   "name": "python",
   "nbconvert_exporter": "python",
   "pygments_lexer": "ipython3",
   "version": "3.11.5"
  }
 },
 "nbformat": 4,
 "nbformat_minor": 5
}
