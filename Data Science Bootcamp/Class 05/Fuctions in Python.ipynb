{
 "cells": [
  {
   "cell_type": "code",
   "execution_count": 1,
   "id": "8b3619a6",
   "metadata": {},
   "outputs": [
    {
     "name": "stdout",
     "output_type": "stream",
     "text": [
      "26\n"
     ]
    }
   ],
   "source": [
    "first_number = 12\n",
    "second_number = 14\n",
    "print(first_number + second_number)"
   ]
  },
  {
   "cell_type": "code",
   "execution_count": 2,
   "id": "130c298c",
   "metadata": {},
   "outputs": [],
   "source": [
    "def add_two_numbers():\n",
    "    first_number = 20\n",
    "    second_number = 25\n",
    "    print(first_number + second_number)\n"
   ]
  },
  {
   "cell_type": "code",
   "execution_count": 3,
   "id": "34c76ac7",
   "metadata": {},
   "outputs": [
    {
     "name": "stdout",
     "output_type": "stream",
     "text": [
      "45\n"
     ]
    }
   ],
   "source": [
    "add_two_numbers()"
   ]
  },
  {
   "cell_type": "code",
   "execution_count": 7,
   "id": "96e1d4f8",
   "metadata": {},
   "outputs": [
    {
     "name": "stdout",
     "output_type": "stream",
     "text": [
      "Hello Faisal\n"
     ]
    }
   ],
   "source": [
    "def greetings(name):\n",
    "    print(\"Hello \" + name)\n",
    "    \n",
    "    \n",
    "greetings(\"Faisal\")"
   ]
  },
  {
   "cell_type": "code",
   "execution_count": 9,
   "id": "1a3ecce9",
   "metadata": {},
   "outputs": [
    {
     "name": "stdout",
     "output_type": "stream",
     "text": [
      "12\n"
     ]
    }
   ],
   "source": [
    "\n",
    "\n",
    "def numbers(num):\n",
    "    print(num)\n",
    "    \n",
    "numbers(12)"
   ]
  },
  {
   "cell_type": "code",
   "execution_count": null,
   "id": "8a3ed6ae",
   "metadata": {},
   "outputs": [],
   "source": []
  }
 ],
 "metadata": {
  "kernelspec": {
   "display_name": "Python 3 (ipykernel)",
   "language": "python",
   "name": "python3"
  },
  "language_info": {
   "codemirror_mode": {
    "name": "ipython",
    "version": 3
   },
   "file_extension": ".py",
   "mimetype": "text/x-python",
   "name": "python",
   "nbconvert_exporter": "python",
   "pygments_lexer": "ipython3",
   "version": "3.11.5"
  }
 },
 "nbformat": 4,
 "nbformat_minor": 5
}
