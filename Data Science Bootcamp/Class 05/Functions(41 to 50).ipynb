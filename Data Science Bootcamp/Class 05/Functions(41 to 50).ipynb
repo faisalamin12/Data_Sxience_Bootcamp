{
 "cells": [
  {
   "cell_type": "markdown",
   "metadata": {},
   "source": [
    "# Functions"
   ]
  },
  {
   "cell_type": "code",
   "execution_count": 1,
   "metadata": {},
   "outputs": [],
   "source": [
    "def add_two_numbers():\n",
    "    z = 15 +10\n",
    "    print(z)"
   ]
  },
  {
   "cell_type": "code",
   "execution_count": 2,
   "metadata": {},
   "outputs": [
    {
     "name": "stdout",
     "output_type": "stream",
     "text": [
      "25\n"
     ]
    }
   ],
   "source": [
    "add_two_numbers()"
   ]
  },
  {
   "cell_type": "code",
   "execution_count": 3,
   "metadata": {},
   "outputs": [
    {
     "name": "stdout",
     "output_type": "stream",
     "text": [
      "2\n"
     ]
    }
   ],
   "source": [
    "def subtract_two_numbers(a , b):\n",
    "    a-b\n",
    "    print(a-b)\n",
    "subtract_two_numbers(5,3)"
   ]
  },
  {
   "cell_type": "code",
   "execution_count": 4,
   "metadata": {},
   "outputs": [
    {
     "name": "stdout",
     "output_type": "stream",
     "text": [
      "Enter First Number12\n",
      "Enter Second Number8\n",
      "4\n"
     ]
    }
   ],
   "source": [
    "def add(a,b):\n",
    "    sum = a-b\n",
    "    print(sum)\n",
    "a = int(input(\"Enter First Number\"))\n",
    "b = int(input(\"Enter Second Number\"))\n",
    "add(a,b)"
   ]
  },
  {
   "cell_type": "code",
   "execution_count": 29,
   "metadata": {},
   "outputs": [
    {
     "name": "stdout",
     "output_type": "stream",
     "text": [
      "Enter Fisrt number: 0\n",
      "Enter Second Input: 0\n",
      "13\n"
     ]
    }
   ],
   "source": [
    "def adding(a = 4 , b = 9):\n",
    "    result = a + b\n",
    "    print(result)\n",
    "x = int(input(\"Enter Fisrt number: \"))\n",
    "y = int(input(\"Enter Second Input: \"))\n",
    "\n",
    "if x <= 0 or y <=0:\n",
    "    adding()\n",
    "else:\n",
    "    adding(a , b)\n"
   ]
  },
  {
   "cell_type": "code",
   "execution_count": 5,
   "metadata": {},
   "outputs": [
    {
     "name": "stdout",
     "output_type": "stream",
     "text": [
      "starting range: 1\n",
      "ending range: 20\n",
      "Enter value1\n",
      "Enter value2\n",
      "Enter value3\n",
      "Enter value4\n",
      "Enter value5\n",
      "Enter value6\n",
      "Enter value7\n",
      "Enter value8\n",
      "Enter value9\n",
      "Enter value0\n",
      "Enter value2\n",
      "Enter value4\n",
      "Enter value6\n",
      "Enter value7\n",
      "Enter value5\n",
      "Enter value6\n",
      "Enter value8\n",
      "Enter value2\n",
      "Enter value23\n",
      "Enter value23\n",
      "['1', '2', '3', '4', '5', '6', '7', '8', '9', '0', '2', '4', '6', '7', '5', '6', '8', '2', '23', '23']\n"
     ]
    }
   ],
   "source": [
    "def adding_values():\n",
    "    x = int(input(\"starting range: \"))\n",
    "    y = int(input(\"ending range: \"))\n",
    "    list = []\n",
    "    for i in range(x,y+1):\n",
    "        a = input(\"Enter value\")\n",
    "        list.append(a)\n",
    "    print(list)\n",
    "adding_values()\n",
    "    "
   ]
  },
  {
   "cell_type": "code",
   "execution_count": 2,
   "metadata": {},
   "outputs": [
    {
     "name": "stdout",
     "output_type": "stream",
     "text": [
      "Enter First number: 2\n",
      "Enter Second Number: 3\n",
      "Maximum number is: \t3\tMinimum number is: \t2\n"
     ]
    }
   ],
   "source": [
    "def max_Number(a , b):\n",
    "    if a > b:\n",
    "        print(\"Maximum number is: \", a, \"Minimum number is: \", b , sep = \"\\t\")\n",
    "    else:\n",
    "        print(\"Maximum number is: \", b, \"Minimum number is: \", a , sep = \"\\t\")\n",
    "\n",
    "x = int(input(\"Enter First number: \"))\n",
    "y = int(input(\"Enter Second Number: \"))\n",
    "max_Number(x , y)\n"
   ]
  },
  {
   "cell_type": "code",
   "execution_count": 8,
   "metadata": {},
   "outputs": [
    {
     "name": "stdout",
     "output_type": "stream",
     "text": [
      "20\n"
     ]
    }
   ],
   "source": [
    "def sum(numbers):\n",
    "    total = 0\n",
    "    for x in numbers:\n",
    "        total += x\n",
    "    return total\n",
    "print(sum((8, 2, 3, 0, 7)))"
   ]
  },
  {
   "cell_type": "code",
   "execution_count": 6,
   "metadata": {},
   "outputs": [
    {
     "name": "stdout",
     "output_type": "stream",
     "text": [
      "3840\n"
     ]
    }
   ],
   "source": [
    "def multiply_list(x):\n",
    "    a = 1\n",
    "    for i in x:\n",
    "        a *=i\n",
    "    print(a)\n",
    "x = (2, 4, 6 , 8 , 10)\n",
    "multiply_list(x)"
   ]
  },
  {
   "cell_type": "code",
   "execution_count": 33,
   "metadata": {},
   "outputs": [
    {
     "name": "stdout",
     "output_type": "stream",
     "text": [
      "-336\n"
     ]
    }
   ],
   "source": [
    "def multiply(numbers):  \n",
    "    total = 1\n",
    "    for x in numbers:\n",
    "        total *= x  \n",
    "    return total  \n",
    "print(multiply((8, 2, 3, -1, 7)))"
   ]
  },
  {
   "cell_type": "code",
   "execution_count": 39,
   "metadata": {},
   "outputs": [
    {
     "name": "stdout",
     "output_type": "stream",
     "text": [
      "16170\n",
      "252\n"
     ]
    }
   ],
   "source": [
    "def abc(y):\n",
    "    total = 1\n",
    "    for x in y:\n",
    "        total *= x\n",
    "    print(total)\n",
    "list1 = [1,33,5,98]\n",
    "list2 = [1,4,7,9]\n",
    "abc(list1)\n",
    "abc(list2)"
   ]
  },
  {
   "cell_type": "code",
   "execution_count": null,
   "metadata": {},
   "outputs": [],
   "source": []
  },
  {
   "cell_type": "code",
   "execution_count": null,
   "metadata": {},
   "outputs": [],
   "source": []
  }
 ],
 "metadata": {
  "kernelspec": {
   "display_name": "Python 3 (ipykernel)",
   "language": "python",
   "name": "python3"
  },
  "language_info": {
   "codemirror_mode": {
    "name": "ipython",
    "version": 3
   },
   "file_extension": ".py",
   "mimetype": "text/x-python",
   "name": "python",
   "nbconvert_exporter": "python",
   "pygments_lexer": "ipython3",
   "version": "3.11.5"
  }
 },
 "nbformat": 4,
 "nbformat_minor": 2
}
