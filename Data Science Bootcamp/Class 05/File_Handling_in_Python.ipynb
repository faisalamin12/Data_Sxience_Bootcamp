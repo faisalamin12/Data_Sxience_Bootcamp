{
 "cells": [
  {
   "cell_type": "markdown",
   "metadata": {
    "id": "8BbOD4aEcQ4R"
   },
   "source": [
    "# File Handling in Python\n",
    "\n",
    "File handling in Python is a powerful and versatile tool that can be used to perform a wide range of operations. However, it is important to carefully consider the advantages and disadvantages of file handling when writing Python programs, to ensure that the code is secure, reliable, and performs well.\n",
    "\n",
    "Python too supports file handling and allows users to handle files i.e., to read and write files, along with many other file handling options, to operate on files. The concept of file handling has stretched over various other languages, but the implementation is either complicated or lengthy, but like other concepts of Python, this concept here is also easy and short. Python treats files differently as text or binary and this is important. Each line of code includes a sequence of characters and they form a text file. Each line of a file is terminated with a special character, called the EOL or End of Line characters like comma {,} or newline character. It ends the current line and tells the interpreter a new one has begun. Let’s start with the reading and writing files.\n",
    "\n",
    "\n",
    "\n",
    "\n",
    "### Working of open() Function in Python\n",
    "\n",
    "Before performing any operation on the file like reading or writing, first, we have to open that file. For this, we should use Python’s inbuilt function open() but at the time of opening, we have to specify the mode, which represents the purpose of the opening file.\n",
    "\n",
    "```\n",
    "f = open(filename, mode)\n",
    "```\n",
    "\n",
    "\n",
    "Where the following mode is supported:\n",
    "\n",
    "**r:** open an existing file for a read operation.\n",
    "\n",
    "**w:** open an existing file for a write operation. If the file already contains some data then it will be overridden but if the file is not present then it creates the file as well.\n",
    "\n",
    "**a:**  open an existing file for append operation. It won’t override existing data.\n",
    "\n",
    "**r+:**  To read and write data into the file. The previous data in the file will be overridden.\n",
    "\n",
    "**w+:** To write and read data. It will override existing data.\n",
    "\n",
    "**a+:** To append and read data from the file. It won’t override existing data.\n",
    "\n",
    "\n",
    "### Working in Read mode\n",
    "There is more than one way to read a file in Python. Let us see how we can read the content of a file in read mode.\n",
    "\n",
    "**Example 1:**\n",
    "\n",
    "The open command will open the file in the read mode and the for loop will print each line present in the file."
   ]
  },
  {
   "cell_type": "code",
   "execution_count": 2,
   "metadata": {
    "colab": {
     "base_uri": "https://localhost:8080/"
    },
    "id": "3QcZBBMAew1F",
    "outputId": "86ddcb83-ecea-495b-d28e-75b7b5845580"
   },
   "outputs": [
    {
     "name": "stdout",
     "output_type": "stream",
     "text": [
      "Python Exercises\n",
      "\n",
      "Hello World!\n"
     ]
    }
   ],
   "source": [
    "# a file named hello, will be opened with the reading mode.\n",
    "file = open('hello.txt', 'r')\n",
    "\n",
    "# This will print every line one by one in the file\n",
    "for each in file:\n",
    "\tprint (each)\n"
   ]
  },
  {
   "cell_type": "markdown",
   "metadata": {
    "id": "HrZUzgGlkMm-"
   },
   "source": [
    "**Example 2:**\n",
    "\n",
    "In this example, we will extract a string that contains all characters in the file then we can use file.read().\n",
    "\n",
    "\n"
   ]
  },
  {
   "cell_type": "code",
   "execution_count": 3,
   "metadata": {
    "colab": {
     "base_uri": "https://localhost:8080/"
    },
    "id": "uGMT4eKIkTih",
    "outputId": "9d1f6ae9-e7bf-4a2a-87f6-5a48ebdad075"
   },
   "outputs": [
    {
     "name": "stdout",
     "output_type": "stream",
     "text": [
      "Python Exercises\n",
      "Hello World!\n"
     ]
    }
   ],
   "source": [
    "# Python code to illustrate read() mode\n",
    "file = open(\"hello.txt\", \"r\")\n",
    "print (file.read())\n"
   ]
  },
  {
   "cell_type": "markdown",
   "metadata": {
    "id": "W9EjFMu9ks_c"
   },
   "source": [
    "**Example 3:**\n",
    "\n",
    "In this example, we will see how we can read a file using the with statement."
   ]
  },
  {
   "cell_type": "code",
   "execution_count": 4,
   "metadata": {
    "colab": {
     "base_uri": "https://localhost:8080/"
    },
    "id": "bpAfZ7v_kyMA",
    "outputId": "2e52c457-90ea-41b6-9a46-92090f537040"
   },
   "outputs": [
    {
     "name": "stdout",
     "output_type": "stream",
     "text": [
      "Python Exercises\n",
      "Hello World!\n"
     ]
    }
   ],
   "source": [
    "# Python code to illustrate with()\n",
    "with open(\"hello.txt\") as file:\n",
    "\tdata = file.read()\n",
    "\n",
    "print(data)\n"
   ]
  },
  {
   "cell_type": "markdown",
   "metadata": {
    "id": "EWBFLaLqlTsO"
   },
   "source": [
    "**Example 4:**\n",
    "\n",
    "Another way to read a file is to call a certain number of characters like in the following code the interpreter will read the first five characters of stored data and return it as a string:"
   ]
  },
  {
   "cell_type": "code",
   "execution_count": 5,
   "metadata": {
    "colab": {
     "base_uri": "https://localhost:8080/"
    },
    "id": "ZQ3bVk4wlXkg",
    "outputId": "74af0a8d-1e50-48bf-dbe9-7559346a744d"
   },
   "outputs": [
    {
     "name": "stdout",
     "output_type": "stream",
     "text": [
      "Pytho\n"
     ]
    }
   ],
   "source": [
    "# Python code to illustrate read() mode character wise\n",
    "file = open(\"hello.txt\", \"r\")\n",
    "print (file.read(5))\n"
   ]
  },
  {
   "cell_type": "markdown",
   "metadata": {
    "id": "0WNzzBsal8LS"
   },
   "source": [
    "**Example 5:**\n",
    "\n",
    "We can also split lines while reading files in Python. The split() function splits the variable when space is encountered. You can also split using any characters as you wish."
   ]
  },
  {
   "cell_type": "code",
   "execution_count": 9,
   "metadata": {
    "colab": {
     "base_uri": "https://localhost:8080/"
    },
    "id": "wOHN31aZmDdi",
    "outputId": "2904855f-135c-4b6f-9519-b580804962dc"
   },
   "outputs": [
    {
     "name": "stdout",
     "output_type": "stream",
     "text": [
      "['This', 'is', 'the', 'write', 'commandIt', 'allows', 'us', 'to', 'write', 'in', 'a', 'particular', 'file']\n"
     ]
    }
   ],
   "source": [
    "# Python code to illustrate split() function\n",
    "with open(\"hello.txt\", \"r\") as file:\n",
    "\tdata = file.readlines()\n",
    "\tfor line in data:\n",
    "\t\tword = line.split()\n",
    "\t\tprint (word)\n"
   ]
  },
  {
   "cell_type": "markdown",
   "metadata": {
    "id": "xdPkcV2DmL8b"
   },
   "source": [
    "### Creating a File using the write() Function\n",
    "\n",
    "\n",
    "Just like reading a file in Python, there are a number of ways to write in a file in Python. Let us see how we can write the content of a file using the write() function in Python.\n",
    "\n",
    "\n",
    "\n",
    "Working in Write Mode\n",
    "Let’s see how to create a file and how the write mode works.\n",
    "\n",
    "**Example 1:**\n",
    "\n",
    "In this example, we will see how the write mode and the write() function is used to write in a file. The close() command terminates all the resources in use and frees the system of this particular program.\n",
    "\n",
    "\n"
   ]
  },
  {
   "cell_type": "code",
   "execution_count": 1,
   "metadata": {
    "id": "9D_R4d6-mSnE"
   },
   "outputs": [],
   "source": [
    "# Python code to create a file\n",
    "file = open('hello.txt','w')\n",
    "file.write(\"This is the write command\")\n",
    "file.write(\"It allows us to write in a particular file\")\n",
    "file.close()\n"
   ]
  },
  {
   "cell_type": "markdown",
   "metadata": {
    "id": "ApJH9-mrnrV4"
   },
   "source": [
    "**Example 2:**\n",
    "\n",
    "We can also use the written statement along with the  with() function.\n",
    "\n"
   ]
  },
  {
   "cell_type": "code",
   "execution_count": 2,
   "metadata": {
    "id": "7vtK9KgSnyfY"
   },
   "outputs": [],
   "source": [
    "# Python code to illustrate with() alongwith write()\n",
    "with open(\"file.txt\", \"w\") as f:\n",
    "\tf.write(\"Hello World!!!\")\n"
   ]
  },
  {
   "cell_type": "markdown",
   "metadata": {
    "id": "IX8y5GEQog7l"
   },
   "source": [
    "### Working of Append Mode\n",
    "\n",
    "\n",
    "Let us see how the append mode works.\n",
    "\n",
    "Example: For this example, we will use the file created in the previous example."
   ]
  },
  {
   "cell_type": "code",
   "execution_count": 3,
   "metadata": {
    "id": "XIuROEAMonmY"
   },
   "outputs": [],
   "source": [
    "# Python code to illustrate append() mode\n",
    "file = open('file.txt', 'a')\n",
    "file.write(\"\\nThis will add this line\")\n",
    "file.close()\n"
   ]
  },
  {
   "cell_type": "code",
   "execution_count": null,
   "metadata": {
    "id": "Cag7NPSjor6b"
   },
   "outputs": [],
   "source": []
  }
 ],
 "metadata": {
  "colab": {
   "provenance": []
  },
  "kernelspec": {
   "display_name": "Python 3 (ipykernel)",
   "language": "python",
   "name": "python3"
  },
  "language_info": {
   "codemirror_mode": {
    "name": "ipython",
    "version": 3
   },
   "file_extension": ".py",
   "mimetype": "text/x-python",
   "name": "python",
   "nbconvert_exporter": "python",
   "pygments_lexer": "ipython3",
   "version": "3.11.5"
  }
 },
 "nbformat": 4,
 "nbformat_minor": 1
}
