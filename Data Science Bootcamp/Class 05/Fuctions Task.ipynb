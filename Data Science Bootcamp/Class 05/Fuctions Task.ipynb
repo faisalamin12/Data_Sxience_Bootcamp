{
 "cells": [
  {
   "cell_type": "markdown",
   "id": "f2d56050",
   "metadata": {},
   "source": [
    "# Functions Tasks\n",
    "\n",
    "1. Write a Python function to find the maximum of three numbers.\n",
    "\n",
    "2. Write a Python function to multiply all the numbers in a list.\n",
    "Sample List : (8, 2, 3, -1, 7)\n",
    "\n",
    "3. Write a Python function that accepts a string and counts the number of upper and lower case letters.\n",
    "Sample String : 'The quick Brow Fox'\n",
    "\n",
    "Expected Output :\n",
    "\n",
    "No. of Upper case characters : 3\n",
    "No. of Lower case Characters : 12\n",
    "\n",
    "4. Write a Python function to create and print a list where the values are the squares of numbers between 1 and 30 (both included).\n",
    "\n",
    "5. Write a Python function to calculate the factorial of a number (a non-negative integer). The function accepts the number as an argument."
   ]
  },
  {
   "cell_type": "code",
   "execution_count": null,
   "id": "2af6afdd",
   "metadata": {},
   "outputs": [],
   "source": []
  }
 ],
 "metadata": {
  "kernelspec": {
   "display_name": "Python 3 (ipykernel)",
   "language": "python",
   "name": "python3"
  },
  "language_info": {
   "codemirror_mode": {
    "name": "ipython",
    "version": 3
   },
   "file_extension": ".py",
   "mimetype": "text/x-python",
   "name": "python",
   "nbconvert_exporter": "python",
   "pygments_lexer": "ipython3",
   "version": "3.11.5"
  }
 },
 "nbformat": 4,
 "nbformat_minor": 5
}
