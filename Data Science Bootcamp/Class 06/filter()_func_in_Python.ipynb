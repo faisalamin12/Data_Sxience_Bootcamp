{
 "cells": [
  {
   "cell_type": "markdown",
   "metadata": {
    "colab_type": "text",
    "id": "view-in-github"
   },
   "source": [
    "<a href=\"https://colab.research.google.com/github/faisalamin12/Python_advance/blob/main/filter()_func_in_Python.ipynb\" target=\"_parent\"><img src=\"https://colab.research.google.com/assets/colab-badge.svg\" alt=\"Open In Colab\"/></a>"
   ]
  },
  {
   "cell_type": "markdown",
   "metadata": {
    "id": "ryUj7fNZWFhH"
   },
   "source": [
    "**filter() in python**\n",
    "\n",
    "The filter() method filters the given sequence with the help of a function that tests each element in the sequence to be true or not.\n",
    "\n",
    "\n",
    "**Syntax:**\n",
    "\n",
    "\n",
    "    \n",
    "    filter(function, sequence)\n",
    "\n",
    "\n",
    "**Parameters:**\n",
    "\n",
    "    function: function that tests if each element of a \n",
    "    sequence true or not.\n",
    "    Sequence: sequence which needs to be filtered, it can \n",
    "    be sets, lists, tuples, or containers of any iterators.\n",
    "\n",
    "Returns:returns an iterator that is already filtered.\n",
    "\n"
   ]
  },
  {
   "cell_type": "code",
   "execution_count": 7,
   "metadata": {
    "colab": {
     "base_uri": "https://localhost:8080/"
    },
    "id": "IwR3gMKkWX3R",
    "outputId": "0b7f9f59-cf62-4b24-ce09-d55216747890"
   },
   "outputs": [
    {
     "data": {
      "text/plain": [
       "True"
      ]
     },
     "execution_count": 7,
     "metadata": {},
     "output_type": "execute_result"
    }
   ],
   "source": [
    "##   searching of letter without filter\n",
    "\n",
    "\n",
    "def searh_letters(letter):\n",
    "  vov = [\"a\" , \"e\" , \"i\" , \"o\" \"u\"]\n",
    "  \n",
    "  if letter in vov:\n",
    "    return True\n",
    "  else:\n",
    "    return False\n",
    "\n",
    "\n",
    "searh_letters(\"i\")    \n"
   ]
  },
  {
   "cell_type": "code",
   "execution_count": 8,
   "metadata": {
    "id": "VejtNy4QYC4z"
   },
   "outputs": [],
   "source": [
    "##     What if we want to check sequence of lettes\n",
    "\n",
    "sequence = ['g', 'e', 'e', 'j', 'k', 's', 'p', 'r']\n",
    "\n",
    "res = filter(searh_letters , sequence)"
   ]
  },
  {
   "cell_type": "code",
   "execution_count": 9,
   "metadata": {
    "colab": {
     "base_uri": "https://localhost:8080/"
    },
    "id": "kE89er5NYsqQ",
    "outputId": "3a1ec0a2-d256-4393-e58c-e87078fdd263"
   },
   "outputs": [
    {
     "name": "stdout",
     "output_type": "stream",
     "text": [
      "e\n",
      "e\n"
     ]
    }
   ],
   "source": [
    "for s in res:\n",
    "  print(s)"
   ]
  },
  {
   "cell_type": "code",
   "execution_count": 10,
   "metadata": {
    "colab": {
     "base_uri": "https://localhost:8080/"
    },
    "id": "sVMGnZEiYzyR",
    "outputId": "7e1309cf-0c34-4de1-c156-b610a8263e52"
   },
   "outputs": [
    {
     "name": "stdout",
     "output_type": "stream",
     "text": [
      "[2, 4, 6, 8, 0, 10]\n",
      "[1, 3, 5, 7, 9]\n"
     ]
    }
   ],
   "source": [
    "## Seperate even and odd through filter\n",
    "numbers = [1,2,3,4,5,6,7,8,9,0,10]\n",
    "\n",
    "\n",
    "even = filter(lambda x: x%2==0, numbers)\n",
    "print(list(even))\n",
    "\n",
    "odd = filter(lambda y: y%2 !=0, numbers)\n",
    "\n",
    "print(list(odd))"
   ]
  },
  {
   "cell_type": "markdown",
   "metadata": {
    "id": "hzqm5e5bbjyt"
   },
   "source": [
    "**Diffrence Between Map and Filter**"
   ]
  },
  {
   "cell_type": "code",
   "execution_count": 11,
   "metadata": {
    "colab": {
     "base_uri": "https://localhost:8080/"
    },
    "id": "pyCxNxPkbW8I",
    "outputId": "5c224002-42c4-40e7-ad8e-10ba76f9c4be"
   },
   "outputs": [
    {
     "name": "stdout",
     "output_type": "stream",
     "text": [
      "With Map: \n",
      "[False, True, False, True, False, True, False, True, False, True, True]\n",
      "with map: \n",
      "[2, 4, 6, 8, 0, 10]\n"
     ]
    }
   ],
   "source": [
    "## same function with map\n",
    "\n",
    "result_1 = map(lambda x: x%2 == 0 , numbers)\n",
    "print(\"With Map: \")\n",
    "print(list(result_1))\n",
    "result_2 = filter(lambda x: x%2 == 0, numbers)\n",
    "print(\"with filter: \")\n",
    "print(list(result_2))\n"
   ]
  },
  {
   "cell_type": "code",
   "execution_count": null,
   "metadata": {
    "id": "zOBTiFnaclHP"
   },
   "outputs": [],
   "source": []
  }
 ],
 "metadata": {
  "colab": {
   "authorship_tag": "ABX9TyMwUN+sQJi2ykrCDtITb70U",
   "include_colab_link": true,
   "provenance": []
  },
  "kernelspec": {
   "display_name": "Python 3 (ipykernel)",
   "language": "python",
   "name": "python3"
  },
  "language_info": {
   "codemirror_mode": {
    "name": "ipython",
    "version": 3
   },
   "file_extension": ".py",
   "mimetype": "text/x-python",
   "name": "python",
   "nbconvert_exporter": "python",
   "pygments_lexer": "ipython3",
   "version": "3.11.5"
  }
 },
 "nbformat": 4,
 "nbformat_minor": 1
}
