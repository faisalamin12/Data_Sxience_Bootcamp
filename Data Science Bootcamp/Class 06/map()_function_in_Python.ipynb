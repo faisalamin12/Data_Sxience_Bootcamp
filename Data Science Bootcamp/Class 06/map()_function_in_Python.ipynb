{
 "cells": [
  {
   "cell_type": "markdown",
   "metadata": {
    "colab_type": "text",
    "id": "view-in-github"
   },
   "source": [
    "<a href=\"https://colab.research.google.com/github/faisalamin12/Python_advance/blob/main/map()_function_in_Python.ipynb\" target=\"_parent\"><img src=\"https://colab.research.google.com/assets/colab-badge.svg\" alt=\"Open In Colab\"/></a>"
   ]
  },
  {
   "cell_type": "markdown",
   "metadata": {
    "id": "ojgrIohv6r4u"
   },
   "source": [
    "map() function returns a map object(which is an iterator) of the results after applying the given function to each item of a given iterable (list, tuple etc.)"
   ]
  },
  {
   "cell_type": "markdown",
   "metadata": {
    "id": "zLjEnqkD68wC"
   },
   "source": [
    "**Syntax**  \n",
    "\n",
    "map(fun, iter)\n",
    "\n",
    "\n",
    "**Parameters :**\n",
    "\n",
    "    fun : It is a function to which map passes each element of given iterable.\n",
    "    iter : It is a iterable which is to be mapped."
   ]
  },
  {
   "cell_type": "code",
   "execution_count": 1,
   "metadata": {
    "colab": {
     "base_uri": "https://localhost:8080/"
    },
    "id": "JCQsGP5Y644N",
    "outputId": "72df82cf-263b-487f-b596-ed085c854c13"
   },
   "outputs": [
    {
     "data": {
      "text/plain": [
       "4"
      ]
     },
     "execution_count": 1,
     "metadata": {},
     "output_type": "execute_result"
    }
   ],
   "source": [
    "## Addition of numbers\n",
    "\n",
    "def add(n):\n",
    "    return n+n\n",
    "\n",
    "add(2)\n",
    "\n",
    "\n"
   ]
  },
  {
   "cell_type": "code",
   "execution_count": 5,
   "metadata": {
    "id": "l6-Q01dV8MxM"
   },
   "outputs": [],
   "source": [
    "##if we want to add list elements through same function\n",
    "\n",
    "list_1 = [1,2,3,4,5]\n",
    "\n",
    "a = map(add , list_1)"
   ]
  },
  {
   "cell_type": "code",
   "execution_count": 6,
   "metadata": {
    "colab": {
     "base_uri": "https://localhost:8080/"
    },
    "id": "vXIrgi7u8iQt",
    "outputId": "29458b95-595b-4394-d21c-5c64cebdc008"
   },
   "outputs": [
    {
     "data": {
      "text/plain": [
       "[2, 4, 6, 8, 10]"
      ]
     },
     "execution_count": 6,
     "metadata": {},
     "output_type": "execute_result"
    }
   ],
   "source": [
    "list(a)"
   ]
  },
  {
   "cell_type": "code",
   "execution_count": 7,
   "metadata": {
    "id": "2dszCmS-8n-E"
   },
   "outputs": [],
   "source": [
    "## We can use map function with Lambda function\n",
    "\n",
    "\n",
    "a = map(lambda  x: x + x ,  list_1 )"
   ]
  },
  {
   "cell_type": "code",
   "execution_count": 8,
   "metadata": {
    "colab": {
     "base_uri": "https://localhost:8080/"
    },
    "id": "bQtZUnLL9SIg",
    "outputId": "05cab53d-1371-44d7-96c4-f944ec772079"
   },
   "outputs": [
    {
     "data": {
      "text/plain": [
       "[2, 4, 6, 8, 10]"
      ]
     },
     "execution_count": 8,
     "metadata": {},
     "output_type": "execute_result"
    }
   ],
   "source": [
    "list(a)"
   ]
  },
  {
   "cell_type": "code",
   "execution_count": 9,
   "metadata": {
    "id": "C7fvk3d29Tz0"
   },
   "outputs": [],
   "source": [
    "## Addition of two list \n",
    "\n",
    "eng_marks = [75,68, 98, 54 , 77]\n",
    "phy_marks = [77,86,65,52,71]\n",
    "\n",
    "total = map(lambda x,y : x + y , eng_marks , phy_marks)\n"
   ]
  },
  {
   "cell_type": "code",
   "execution_count": 10,
   "metadata": {
    "colab": {
     "base_uri": "https://localhost:8080/"
    },
    "id": "zmwP8clK-WYA",
    "outputId": "4ef36832-e135-4c10-847a-f214ce52225c"
   },
   "outputs": [
    {
     "data": {
      "text/plain": [
       "<map at 0x1f0a94aef80>"
      ]
     },
     "execution_count": 10,
     "metadata": {},
     "output_type": "execute_result"
    }
   ],
   "source": [
    "total"
   ]
  },
  {
   "cell_type": "code",
   "execution_count": 11,
   "metadata": {
    "colab": {
     "base_uri": "https://localhost:8080/"
    },
    "id": "5wuS8wH6-bcN",
    "outputId": "87164e3c-6602-44eb-b556-6b5933e26d6b"
   },
   "outputs": [
    {
     "data": {
      "text/plain": [
       "[152, 154, 163, 106, 148]"
      ]
     },
     "execution_count": 11,
     "metadata": {},
     "output_type": "execute_result"
    }
   ],
   "source": [
    "list(total)"
   ]
  },
  {
   "cell_type": "code",
   "execution_count": 11,
   "metadata": {
    "id": "2OwhrI2v-e-G"
   },
   "outputs": [],
   "source": [
    "# Conversion of list from string through map \n",
    "\n",
    "days = [\"sat\" , \"sun\" , \"mon\" , \"Tues\" , \"wed\"]\n",
    "\n",
    "con_list = map(list , days)\n"
   ]
  },
  {
   "cell_type": "code",
   "execution_count": 12,
   "metadata": {
    "colab": {
     "base_uri": "https://localhost:8080/"
    },
    "id": "-I5kryJ5_Mrm",
    "outputId": "87f9bc39-4fdb-4fb5-beae-a0c85a29a5a6"
   },
   "outputs": [
    {
     "name": "stdout",
     "output_type": "stream",
     "text": [
      "<map object at 0x7f5774c2c910>\n"
     ]
    }
   ],
   "source": [
    "print(con_list)"
   ]
  },
  {
   "cell_type": "code",
   "execution_count": 13,
   "metadata": {
    "colab": {
     "base_uri": "https://localhost:8080/"
    },
    "id": "u1Dqfy_g_TLX",
    "outputId": "b73edac4-990f-4c14-f63b-75807d379c11"
   },
   "outputs": [
    {
     "data": {
      "text/plain": [
       "[['s', 'a', 't'],\n",
       " ['s', 'u', 'n'],\n",
       " ['m', 'o', 'n'],\n",
       " ['T', 'u', 'e', 's'],\n",
       " ['w', 'e', 'd']]"
      ]
     },
     "execution_count": 13,
     "metadata": {},
     "output_type": "execute_result"
    }
   ],
   "source": [
    "list(con_list)"
   ]
  },
  {
   "cell_type": "code",
   "execution_count": null,
   "metadata": {
    "id": "tqPGOuaq_WUW"
   },
   "outputs": [],
   "source": []
  }
 ],
 "metadata": {
  "colab": {
   "authorship_tag": "ABX9TyNXL7zqJT6yNs4xxP4Jzcaf",
   "include_colab_link": true,
   "provenance": []
  },
  "kernelspec": {
   "display_name": "Python 3 (ipykernel)",
   "language": "python",
   "name": "python3"
  },
  "language_info": {
   "codemirror_mode": {
    "name": "ipython",
    "version": 3
   },
   "file_extension": ".py",
   "mimetype": "text/x-python",
   "name": "python",
   "nbconvert_exporter": "python",
   "pygments_lexer": "ipython3",
   "version": "3.11.5"
  }
 },
 "nbformat": 4,
 "nbformat_minor": 1
}
