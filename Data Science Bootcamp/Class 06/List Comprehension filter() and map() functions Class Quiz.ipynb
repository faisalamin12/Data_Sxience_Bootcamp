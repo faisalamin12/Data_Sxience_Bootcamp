{
 "cells": [
  {
   "cell_type": "markdown",
   "id": "4b0b2cb1",
   "metadata": {},
   "source": [
    "# Class Quiz\n",
    "\n",
    "1. Create a list from the elements of a range from 1200 to 2000 with steps of 130, using list comprehension.\n",
    "\n",
    "2. Use list comprehension to contruct a new list but add 6 to each item.\n",
    "\n",
    "3. Write a Python function that filters out all empty strings from a list of strings using the filter function.\n",
    "\n",
    "4. Write a Python program that creates a list of tuples, each containing a city name and its population. Use the filter function to extract cities with a population greater than 2 million.\n",
    "\n",
    "cities = [\n",
    "    (\"New York\", 8500000),\n",
    "    (\"Los Angeles\", 4000000),\n",
    "    (\"Chicago\", 2700000),\n",
    "    (\"Houston\", 2300000),\n",
    "    (\"Phoenix\", 1600000),\n",
    "    (\"Philadelphia\", 1500000),\n",
    "    (\"San Antonio\", 1500000),\n",
    "]\n",
    "\n",
    "5. Write a map function that adds \"Hello, \" in front of each item in the list.\n",
    "\n",
    "lst1=[\"Jane\", \"Lee\", \"Will\", \"Brie\"]"
   ]
  },
  {
   "cell_type": "code",
   "execution_count": 1,
   "id": "f517d35c",
   "metadata": {},
   "outputs": [
    {
     "data": {
      "text/plain": [
       "['Hello Jane', 'Hello Lee', 'Hello Will', 'Hello Brie']"
      ]
     },
     "execution_count": 1,
     "metadata": {},
     "output_type": "execute_result"
    }
   ],
   "source": [
    "lst1 = ['Jane','Lee', 'Will','Brie']\n",
    " \n",
    "def hello(n):\n",
    "    return f\"Hello {n}\"\n",
    " \n",
    "list(map(hello, lst1))"
   ]
  },
  {
   "cell_type": "code",
   "execution_count": null,
   "id": "efa6f551",
   "metadata": {},
   "outputs": [],
   "source": []
  }
 ],
 "metadata": {
  "kernelspec": {
   "display_name": "Python 3 (ipykernel)",
   "language": "python",
   "name": "python3"
  },
  "language_info": {
   "codemirror_mode": {
    "name": "ipython",
    "version": 3
   },
   "file_extension": ".py",
   "mimetype": "text/x-python",
   "name": "python",
   "nbconvert_exporter": "python",
   "pygments_lexer": "ipython3",
   "version": "3.11.5"
  }
 },
 "nbformat": 4,
 "nbformat_minor": 5
}
