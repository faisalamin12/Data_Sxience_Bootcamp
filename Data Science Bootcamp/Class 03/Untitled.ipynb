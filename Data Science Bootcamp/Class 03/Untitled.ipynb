{
 "cells": [
  {
   "cell_type": "markdown",
   "id": "15d25142",
   "metadata": {},
   "source": [
    "1. Given a list of numbers. write a program to turn every item of a list into its square.\n",
    "\n",
    "Given:\n",
    "\n",
    "numbers = [1, 2, 3, 4, 5, 6, 7]"
   ]
  },
  {
   "cell_type": "markdown",
   "id": "4c26c15d",
   "metadata": {},
   "source": [
    "2. Write a program to add item 7000 after 6000 in the following Python List\n",
    "\n",
    "Given:\n",
    "\n",
    "list1 = [10, 20, [300, 400, [5000, 6000], 500], 30, 40]"
   ]
  },
  {
   "cell_type": "markdown",
   "id": "8a1c12e4",
   "metadata": {},
   "source": [
    "3. You have given a Python list. Write a program to find value 20 in the list, and if it is present, replace it with 200. Only update the first occurrence of an item.\n",
    "\n",
    "Given:\n",
    "\n",
    "list1 = [5, 10, 15, 20, 25, 50, 20]"
   ]
  },
  {
   "cell_type": "code",
   "execution_count": null,
   "id": "80e46bf4",
   "metadata": {},
   "outputs": [],
   "source": []
  }
 ],
 "metadata": {
  "kernelspec": {
   "display_name": "Python 3 (ipykernel)",
   "language": "python",
   "name": "python3"
  },
  "language_info": {
   "codemirror_mode": {
    "name": "ipython",
    "version": 3
   },
   "file_extension": ".py",
   "mimetype": "text/x-python",
   "name": "python",
   "nbconvert_exporter": "python",
   "pygments_lexer": "ipython3",
   "version": "3.11.5"
  }
 },
 "nbformat": 4,
 "nbformat_minor": 5
}
