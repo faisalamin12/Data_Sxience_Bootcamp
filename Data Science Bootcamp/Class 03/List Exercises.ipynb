{
 "cells": [
  {
   "cell_type": "markdown",
   "id": "2a43a285",
   "metadata": {},
   "source": [
    "### List Functions By User Input "
   ]
  },
  {
   "cell_type": "code",
   "execution_count": 23,
   "id": "3956302d",
   "metadata": {},
   "outputs": [
    {
     "name": "stdout",
     "output_type": "stream",
     "text": [
      "\t\t\t====List Modification====\n",
      "1. To add an item at the end of a list\n",
      "2. to remove last item from the list\n",
      "3. To insert item from the specific position in the list\n",
      "4. To add more than one item of the list\n",
      "5. To copy List\n",
      "What do you want to in a list: 5\n",
      "[1, 2, 3, 4, 5]\n",
      "========================================================================================================================\n"
     ]
    }
   ],
   "source": [
    "list_1 = [1,2,3,4,5]\n",
    "new_list = []\n",
    "\n",
    "print(\"\\t\\t\\t====List Modification====\")\n",
    "\n",
    "print(\"1. To add an item at the end of a list\\n2. to remove last item from the list\\n3. To insert item from the specific position in the list\\n4. To add more than one item of the list\\n5. To copy List\")\n",
    "mod_in_list = int(input(\"What do you want to in a list: \"))\n",
    "\n",
    "\n",
    "                                     # Add an Item at the end of the List\n",
    "    \n",
    "    \n",
    "if mod_in_list == 1:\n",
    "    add_item = input(\"Enter the item: \")\n",
    "    list_1.append(add_item)\n",
    "    print(list_1)\n",
    "\n",
    "    \n",
    "\n",
    "                                     # Remove Item at the end of the List\n",
    "elif mod_in_list == 2:\n",
    "    list_1.pop()\n",
    "    print(list_1)\n",
    "    print(\"LAST ITEM HAS BEEN REMOVED\")\n",
    "\n",
    "    \n",
    "                                    # To inser items at the end of the list\n",
    "        \n",
    "        \n",
    "    \n",
    "elif mod_in_list == 3:\n",
    "    ele_ind = int(input(\"Enter the index number in which you want to add: \"))\n",
    "    add_item = input(\"Enter item which you want to add: \")\n",
    "    list_1.insert(ele_ind,add_item)\n",
    "    print(list_1)\n",
    "    print(add_item + \" has been add at the\" , ele_ind , \"position\" )\n",
    "\n",
    "    \n",
    "                                 # To add more than one item in the list\n",
    "    \n",
    "elif mod_in_list == 4:\n",
    "    \n",
    "    no_of_items = int(input(\"How many Items do you want to add: \"))\n",
    "    \n",
    "    for i in range(1,no_of_items+1):\n",
    "        item = input(\"Enter item: \")\n",
    "        new_list.append(item)\n",
    "\n",
    "    list_1.extend(new_list)\n",
    "    print(list_1)\n",
    "    print(\"ITEMS HAS BEEN ADDED AT THE END OF THE LIST!!\")\n",
    "\n",
    "                                        # To Copy List\n",
    "    \n",
    "elif mod_in_list == 5:\n",
    "    new_list = list_1.copy()\n",
    "    print(new_list)\n",
    "    \n",
    "    \n",
    "print(\"========================================================================================================================\")"
   ]
  },
  {
   "cell_type": "code",
   "execution_count": null,
   "id": "df6545c5",
   "metadata": {},
   "outputs": [],
   "source": [
    "##"
   ]
  },
  {
   "cell_type": "code",
   "execution_count": 10,
   "id": "f571a542",
   "metadata": {},
   "outputs": [
    {
     "name": "stdout",
     "output_type": "stream",
     "text": [
      "[1, 2, 3, 4, 5, 6, 7, 8, 9, 10, 11, 12, 13, 14, 15, 16, 17, 18, 19, 20, 21, 22, 23, 24, 25, 26, 27, 28, 29, 30, 31, 32, 33, 34, 35, 36, 37, 38, 39, 40, 41, 42, 43, 44, 45, 46, 47, 48, 49, 50]\n"
     ]
    }
   ],
   "source": [
    "num_list = []\n",
    "\n",
    "for i in range(1,51):\n",
    "    num_list.append(i)\n",
    "    \n",
    "print(num_list)"
   ]
  },
  {
   "cell_type": "code",
   "execution_count": 11,
   "id": "8c679a5e",
   "metadata": {},
   "outputs": [
    {
     "name": "stdout",
     "output_type": "stream",
     "text": [
      "Even Numbers list:  [2, 4, 6, 8, 10, 12, 14, 16, 18, 20, 22, 24, 26, 28, 30, 32, 34, 36, 38, 40, 42, 44, 46, 48, 50]\n",
      "Odd Numbers list:  [1, 3, 5, 7, 9, 11, 13, 15, 17, 19, 21, 23, 25, 27, 29, 31, 33, 35, 37, 39, 41, 43, 45, 47, 49]\n"
     ]
    }
   ],
   "source": [
    "even_list = []\n",
    "odd_list = []\n",
    "\n",
    "for i in num_list:\n",
    "    \n",
    "    if i % 2 == 0 :\n",
    "        even_list.append(i)\n",
    "    elif i % 2 != 0:\n",
    "        odd_list.append(i)\n",
    "\n",
    "        \n",
    "print(\"Even Numbers list: \" , even_list)\n",
    "print(\"Odd Numbers list: \" , odd_list)\n",
    "    "
   ]
  },
  {
   "cell_type": "code",
   "execution_count": null,
   "id": "8dd1a2d0",
   "metadata": {},
   "outputs": [],
   "source": []
  }
 ],
 "metadata": {
  "kernelspec": {
   "display_name": "Python 3 (ipykernel)",
   "language": "python",
   "name": "python3"
  },
  "language_info": {
   "codemirror_mode": {
    "name": "ipython",
    "version": 3
   },
   "file_extension": ".py",
   "mimetype": "text/x-python",
   "name": "python",
   "nbconvert_exporter": "python",
   "pygments_lexer": "ipython3",
   "version": "3.9.13"
  }
 },
 "nbformat": 4,
 "nbformat_minor": 5
}
