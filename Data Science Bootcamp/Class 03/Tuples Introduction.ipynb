{
 "cells": [
  {
   "cell_type": "markdown",
   "id": "837304da",
   "metadata": {},
   "source": [
    "## Python Tuples\n",
    "\n",
    "Tuples are ordered collection of data items. They store multiple items in a single variable. Tuple items are separated by commas and enclosed within round brackets (). Tuples are unchangeable meaning we can not alter them after creation."
   ]
  },
  {
   "cell_type": "code",
   "execution_count": 1,
   "id": "0ab7599b",
   "metadata": {},
   "outputs": [
    {
     "name": "stdout",
     "output_type": "stream",
     "text": [
      "(1, 2, 2, 3, 5, 4, 6)\n",
      "('Red', 'Green', 'Blue')\n"
     ]
    }
   ],
   "source": [
    "\n",
    "tuple1 = (1,2,2,3,5,4,6)\n",
    "tuple2 = (\"Red\", \"Green\", \"Blue\")\n",
    "print(tuple1)\n",
    "print(tuple2)"
   ]
  },
  {
   "cell_type": "code",
   "execution_count": 2,
   "id": "50a75ac0",
   "metadata": {},
   "outputs": [
    {
     "name": "stdout",
     "output_type": "stream",
     "text": [
      "('Abdullah', 18, 'Score', 9.8)\n"
     ]
    }
   ],
   "source": [
    "details = (\"Abdullah\", 18, \"Score\", 9.8)\n",
    "print(details)"
   ]
  },
  {
   "cell_type": "code",
   "execution_count": 4,
   "id": "f1298792",
   "metadata": {},
   "outputs": [
    {
     "name": "stdout",
     "output_type": "stream",
     "text": [
      "(1,)\n",
      "<class 'tuple'>\n"
     ]
    }
   ],
   "source": [
    "tuple = (1 ,)\n",
    "print(tuple)\n",
    "print(type(tuple))"
   ]
  },
  {
   "cell_type": "markdown",
   "id": "2e8b56bd",
   "metadata": {},
   "source": [
    "## Tuple Indexes\n",
    "Each item/element in a tuple has its own unique index. This index can be used to access any particular item from the tuple. The first item has index [0], second item has index [1], third item has index [2] and so on. "
   ]
  },
  {
   "cell_type": "code",
   "execution_count": 10,
   "id": "8ba3456d",
   "metadata": {},
   "outputs": [],
   "source": [
    "country = (\"Spain\", \"Italy\", \"India\",)\n",
    "#            [0]      [1]      [2]"
   ]
  },
  {
   "cell_type": "markdown",
   "id": "020cbe99",
   "metadata": {},
   "source": [
    "## Accessing tuple items:\n",
    "\n",
    "####  I. Positive Indexing:\n",
    "As we have seen that tuple items have index, as such we can access items using these indexes."
   ]
  },
  {
   "cell_type": "code",
   "execution_count": 11,
   "id": "18167662",
   "metadata": {},
   "outputs": [
    {
     "name": "stdout",
     "output_type": "stream",
     "text": [
      "Spain\n",
      "Italy\n",
      "India\n"
     ]
    }
   ],
   "source": [
    "country = (\"Spain\", \"Italy\", \"India\",)\n",
    "#            [0]      [1]      [2]     \n",
    "print(country[0])\n",
    "print(country[1])\n",
    "print(country[2])"
   ]
  },
  {
   "cell_type": "markdown",
   "id": "a8d9cc1e",
   "metadata": {},
   "source": [
    "### II. Negative Indexing:\n",
    "\n",
    "Similar to positive indexing, negative indexing is also used to access items, but from the end of the tuple. The last item has index [-1], second last item has index [-2], third last item has index [-3] and so on."
   ]
  },
  {
   "cell_type": "code",
   "execution_count": 12,
   "id": "bfb7de14",
   "metadata": {},
   "outputs": [
    {
     "name": "stdout",
     "output_type": "stream",
     "text": [
      "Germany\n",
      "India\n",
      "Italy\n"
     ]
    }
   ],
   "source": [
    "country = (\"Spain\", \"Italy\", \"India\", \"England\", \"Germany\")\n",
    "#            [0]      [1]      [2]       [3]        [4]\n",
    "print(country[-1]) # Similar to print(country[len(country) - 1])\n",
    "print(country[-3])\n",
    "print(country[-4])"
   ]
  },
  {
   "cell_type": "markdown",
   "id": "5c2ff602",
   "metadata": {},
   "source": [
    "### III. Check for item:\n",
    "\n",
    "We can check if a given item is present in the tuple. This is done using the in keyword."
   ]
  },
  {
   "cell_type": "code",
   "execution_count": 15,
   "id": "88eca4ca",
   "metadata": {},
   "outputs": [
    {
     "name": "stdout",
     "output_type": "stream",
     "text": [
      "Russia is absent.\n"
     ]
    }
   ],
   "source": [
    "country = (\"Spain\", \"Italy\", \"India\", \"England\", \"Germany\")\n",
    "if \"Russia\" in country:\n",
    "    print(\"Russia is present.\")\n",
    "else:\n",
    "    print(\"Russia is absent.\")"
   ]
  },
  {
   "cell_type": "code",
   "execution_count": 16,
   "id": "a96ab049",
   "metadata": {},
   "outputs": [
    {
     "name": "stdout",
     "output_type": "stream",
     "text": [
      "False\n"
     ]
    }
   ],
   "source": [
    "print(\"Russia\" in country)"
   ]
  },
  {
   "cell_type": "markdown",
   "id": "09498ee5",
   "metadata": {},
   "source": [
    "### IV. Range of Index:\n",
    "You can print a range of tuple items by specifying where do you want to start, where do you want to end and if you want to skip elements in between the range. "
   ]
  },
  {
   "cell_type": "markdown",
   "id": "0a7c6c89",
   "metadata": {},
   "source": [
    "###### Syntax\n",
    "Tuple[start : end : jumpIndex]\n",
    "\n",
    "Note: jump Index is optional. We will see this in given examples.\n",
    "\n"
   ]
  },
  {
   "cell_type": "code",
   "execution_count": 7,
   "id": "7ca49a67",
   "metadata": {},
   "outputs": [
    {
     "name": "stdout",
     "output_type": "stream",
     "text": [
      "('mouse', 'pig', 'horse', 'donkey')\n",
      "('bat', 'mouse', 'pig', 'horse', 'donkey')\n"
     ]
    }
   ],
   "source": [
    "animals = (\"cat\", \"dog\", \"bat\", \"mouse\", \"pig\", \"horse\", \"donkey\", \"goat\", \"cow\")\n",
    "print(animals[3:7])     #using positive indexes\n",
    "print(animals[-7:-2])   #using negative indexes"
   ]
  },
  {
   "cell_type": "markdown",
   "id": "56d77194",
   "metadata": {},
   "source": [
    "Here, we provide index of the element from where we want to start and the index of the element till which we want to print the values. Note: The element of the end index provided will not be included."
   ]
  },
  {
   "cell_type": "markdown",
   "id": "d08810ee",
   "metadata": {},
   "source": [
    "When no end index is provided, the interpreter prints all the values till the end.\n",
    "\n"
   ]
  },
  {
   "cell_type": "markdown",
   "id": "59ecefb9",
   "metadata": {},
   "source": [
    "### Printing all elements from start to a given index\n",
    "\n",
    "\n",
    "\n",
    " "
   ]
  },
  {
   "cell_type": "code",
   "execution_count": 17,
   "id": "1188fad2",
   "metadata": {},
   "outputs": [
    {
     "name": "stdout",
     "output_type": "stream",
     "text": [
      "('cat', 'dog', 'bat', 'mouse', 'pig', 'horse')\n",
      "('cat', 'dog', 'bat', 'mouse', 'pig', 'horse')\n"
     ]
    }
   ],
   "source": [
    "animals = (\"cat\", \"dog\", \"bat\", \"mouse\", \"pig\", \"horse\", \"donkey\", \"goat\", \"cow\")\n",
    "print(animals[:6])      #using positive indexes\n",
    "print(animals[:-3])     #using negative indexes"
   ]
  },
  {
   "cell_type": "markdown",
   "id": "a52eeaa6",
   "metadata": {},
   "source": [
    "When no start index is provided, the interpreter prints all the values from start up to the end index provided."
   ]
  },
  {
   "cell_type": "markdown",
   "id": "d63f4776",
   "metadata": {},
   "source": [
    "### Print alternate values\n",
    " "
   ]
  },
  {
   "cell_type": "code",
   "execution_count": 9,
   "id": "804ac86e",
   "metadata": {},
   "outputs": [
    {
     "name": "stdout",
     "output_type": "stream",
     "text": [
      "('cat', 'bat', 'pig', 'donkey', 'cow')\n",
      "('dog', 'mouse', 'horse', 'goat')\n"
     ]
    }
   ],
   "source": [
    "animals = (\"cat\", \"dog\", \"bat\", \"mouse\", \"pig\", \"horse\", \"donkey\", \"goat\", \"cow\")\n",
    "print(animals[::2])     #using positive indexes\n",
    "print(animals[-8:-1:2]) #using negative indexes"
   ]
  },
  {
   "cell_type": "markdown",
   "id": "27cc51fd",
   "metadata": {},
   "source": [
    "Here, we have not provided start and end index, which means all the values will be considered. But as we have provided a jump index of 2 only alternate values will be printed."
   ]
  },
  {
   "cell_type": "markdown",
   "id": "ac85911c",
   "metadata": {},
   "source": [
    "### Printing every 3rd consecutive withing given range"
   ]
  },
  {
   "cell_type": "code",
   "execution_count": 10,
   "id": "6229a59a",
   "metadata": {},
   "outputs": [
    {
     "name": "stdout",
     "output_type": "stream",
     "text": [
      "('dog', 'pig', 'goat')\n"
     ]
    }
   ],
   "source": [
    "animals = (\"cat\", \"dog\", \"bat\", \"mouse\", \"pig\", \"horse\", \"donkey\", \"goat\", \"cow\")\n",
    "print(animals[1:8:3])"
   ]
  },
  {
   "cell_type": "markdown",
   "id": "9494b29e",
   "metadata": {},
   "source": [
    "Here, jump index is 3. Hence it prints every 3rd element within given index."
   ]
  },
  {
   "cell_type": "code",
   "execution_count": 1,
   "id": "e70489e4",
   "metadata": {},
   "outputs": [
    {
     "ename": "SyntaxError",
     "evalue": "invalid syntax (558990142.py, line 8)",
     "output_type": "error",
     "traceback": [
      "\u001b[1;36m  File \u001b[1;32m\"C:\\Users\\User\\AppData\\Local\\Temp\\ipykernel_1480\\558990142.py\"\u001b[1;36m, line \u001b[1;32m8\u001b[0m\n\u001b[1;33m    if assigned_and_return == 1:\u001b[0m\n\u001b[1;37m                               ^\u001b[0m\n\u001b[1;31mSyntaxError\u001b[0m\u001b[1;31m:\u001b[0m invalid syntax\n"
     ]
    }
   ],
   "source": [
    "Books = [\"Book1\" , \"Book2\" , \"Book3\"]\n",
    "assigned_books = []\n",
    "\n",
    "user_name = input(\"Enter Your name: \")\n",
    "\n",
    "assigned_and_return = int((input(\"Enter 1 to assign and 2 to return \"))\n",
    "                          \n",
    "if assigned_and_return == 1:\n",
    "    book_name = input(\"Enter your book name\")\n",
    "    for i in Books:\n",
    "        if i == book_name:\n",
    "            assigned_books.append(book_name)\n",
    "            Books.remove(book_name)\n",
    "            print(\"Your book has been Assigned\")\n",
    "                          \n",
    "                          "
   ]
  },
  {
   "cell_type": "code",
   "execution_count": null,
   "id": "70dde637",
   "metadata": {},
   "outputs": [],
   "source": []
  }
 ],
 "metadata": {
  "kernelspec": {
   "display_name": "Python 3 (ipykernel)",
   "language": "python",
   "name": "python3"
  },
  "language_info": {
   "codemirror_mode": {
    "name": "ipython",
    "version": 3
   },
   "file_extension": ".py",
   "mimetype": "text/x-python",
   "name": "python",
   "nbconvert_exporter": "python",
   "pygments_lexer": "ipython3",
   "version": "3.11.5"
  }
 },
 "nbformat": 4,
 "nbformat_minor": 5
}
