{
 "cells": [
  {
   "cell_type": "markdown",
   "id": "71e16434",
   "metadata": {
    "id": "71e16434"
   },
   "source": [
    "# Python Lists\n",
    "\n",
    "1. Lists are ordered collection of data items.\n",
    "\n",
    "2. They store multiple items in a single variable.\n",
    "\n",
    "3. List items are separated by commas and enclosed within square brackets [].\n",
    "\n",
    "4. Lists are changeable meaning we can alter them after creation.\n"
   ]
  },
  {
   "cell_type": "code",
   "execution_count": null,
   "id": "a2bbd155",
   "metadata": {
    "id": "a2bbd155",
    "outputId": "1b581833-ffcd-4fa4-c7cd-9fba72384407"
   },
   "outputs": [
    {
     "name": "stdout",
     "output_type": "stream",
     "text": [
      "[1, 2, 3, 4, 5]\n"
     ]
    }
   ],
   "source": [
    "a = [1,2,3,4,5]\n",
    "print(a)"
   ]
  },
  {
   "cell_type": "code",
   "execution_count": null,
   "id": "8a6f5d69",
   "metadata": {
    "id": "8a6f5d69",
    "outputId": "5928c70c-4a98-4fdc-b8ae-8219ba02735b"
   },
   "outputs": [
    {
     "name": "stdout",
     "output_type": "stream",
     "text": [
      "[1, 2, 4, 6]\n"
     ]
    }
   ],
   "source": [
    "lst_1 = [1,2,4,6]\n",
    "print(lst_1)"
   ]
  },
  {
   "cell_type": "code",
   "execution_count": null,
   "id": "ea591080",
   "metadata": {
    "id": "ea591080",
    "outputId": "2be94b80-2d7d-4ad4-96a6-a9ea78ae26a4"
   },
   "outputs": [
    {
     "name": "stdout",
     "output_type": "stream",
     "text": [
      "['Red', 'Green', 'Blue']\n"
     ]
    }
   ],
   "source": [
    "lst_2 = [\"Red\" , \"Green\" , \"Blue\"]\n",
    "print(lst_2)"
   ]
  },
  {
   "cell_type": "code",
   "execution_count": null,
   "id": "9851b27f",
   "metadata": {
    "id": "9851b27f",
    "outputId": "6a500132-595d-40d5-c019-d691ecf2218c"
   },
   "outputs": [
    {
     "data": {
      "text/plain": [
       "[1, 2, 4, 6]"
      ]
     },
     "execution_count": 6,
     "metadata": {},
     "output_type": "execute_result"
    }
   ],
   "source": [
    "lst_1"
   ]
  },
  {
   "cell_type": "code",
   "execution_count": null,
   "id": "37f85ca4",
   "metadata": {
    "id": "37f85ca4",
    "outputId": "7164380c-bf37-41d5-a08f-7c3caac697c1"
   },
   "outputs": [
    {
     "data": {
      "text/plain": [
       "['Red', 'Green', 'Blue']"
      ]
     },
     "execution_count": 7,
     "metadata": {},
     "output_type": "execute_result"
    }
   ],
   "source": [
    "lst_2"
   ]
  },
  {
   "cell_type": "code",
   "execution_count": null,
   "id": "d7cb9f6b",
   "metadata": {
    "id": "d7cb9f6b",
    "outputId": "b497cd5e-8449-40fe-c04a-a1692a69d35a"
   },
   "outputs": [
    {
     "name": "stdout",
     "output_type": "stream",
     "text": [
      "['Ali', 29, 'Ahmed', 21, 'Zaid', 26, True]\n"
     ]
    }
   ],
   "source": [
    "names_age = [\"Ali\" , 29 , \"Ahmed\" , 21 , \"Zaid\" , 26, True]\n",
    "print(names_age)"
   ]
  },
  {
   "cell_type": "markdown",
   "id": "4957857f",
   "metadata": {
    "id": "4957857f"
   },
   "source": [
    "As we can see, a single list can contain items of different data types.\n",
    "\n"
   ]
  },
  {
   "cell_type": "markdown",
   "id": "5ad9cb68",
   "metadata": {
    "id": "5ad9cb68"
   },
   "source": [
    "## List Index\n",
    "\n",
    "Each item/element in a list has its own unique index. This index can be used to access any particular item from the list. The first item has index [0], second item has index [1], third item has index [2] and so on."
   ]
  },
  {
   "cell_type": "code",
   "execution_count": null,
   "id": "c72f29ca",
   "metadata": {
    "id": "c72f29ca",
    "outputId": "b68488f4-fc0d-48cc-d940-4948a68c449c"
   },
   "outputs": [
    {
     "name": "stdout",
     "output_type": "stream",
     "text": [
      "3\n"
     ]
    }
   ],
   "source": [
    "lst_2 =  [\"Chair\" , \"Table\" , \"Cupboard\"]\n",
    "\n",
    "#          [0]       [1]        [2]\n",
    "\n",
    "print(len(lst_2))"
   ]
  },
  {
   "cell_type": "markdown",
   "id": "1feb8663",
   "metadata": {
    "id": "1feb8663"
   },
   "source": [
    "## Accessing list items\n",
    "\n",
    "We can access list items by using its index with the square bracket syntax []. For example lst_2[0] will give \"Chair\", lst_2[1] will give \"Table\" and so on..."
   ]
  },
  {
   "cell_type": "markdown",
   "id": "1e2b1dd4",
   "metadata": {
    "id": "1e2b1dd4"
   },
   "source": [
    "### Positive Indexing:\n",
    "As we have seen that list items have index, as such we can access items using these indexes."
   ]
  },
  {
   "cell_type": "code",
   "execution_count": null,
   "id": "dc911acc",
   "metadata": {
    "id": "dc911acc",
    "outputId": "8755eaa0-2978-421e-fa84-ae15e533a812"
   },
   "outputs": [
    {
     "name": "stdout",
     "output_type": "stream",
     "text": [
      "Chair\n",
      "Table\n",
      "Cupboard\n"
     ]
    },
    {
     "ename": "IndexError",
     "evalue": "list index out of range",
     "output_type": "error",
     "traceback": [
      "\u001b[1;31m---------------------------------------------------------------------------\u001b[0m",
      "\u001b[1;31mIndexError\u001b[0m                                Traceback (most recent call last)",
      "\u001b[1;32m~\\AppData\\Local\\Temp\\ipykernel_7660\\2584819691.py\u001b[0m in \u001b[0;36m<module>\u001b[1;34m\u001b[0m\n\u001b[0;32m      2\u001b[0m \u001b[0mprint\u001b[0m\u001b[1;33m(\u001b[0m\u001b[0mlst_2\u001b[0m\u001b[1;33m[\u001b[0m\u001b[1;36m1\u001b[0m\u001b[1;33m]\u001b[0m\u001b[1;33m)\u001b[0m\u001b[1;33m\u001b[0m\u001b[1;33m\u001b[0m\u001b[0m\n\u001b[0;32m      3\u001b[0m \u001b[0mprint\u001b[0m\u001b[1;33m(\u001b[0m\u001b[0mlst_2\u001b[0m\u001b[1;33m[\u001b[0m\u001b[1;36m2\u001b[0m\u001b[1;33m]\u001b[0m\u001b[1;33m)\u001b[0m\u001b[1;33m\u001b[0m\u001b[1;33m\u001b[0m\u001b[0m\n\u001b[1;32m----> 4\u001b[1;33m \u001b[0mprint\u001b[0m\u001b[1;33m(\u001b[0m\u001b[0mlst_2\u001b[0m\u001b[1;33m[\u001b[0m\u001b[1;36m3\u001b[0m\u001b[1;33m]\u001b[0m\u001b[1;33m)\u001b[0m \u001b[1;31m# It generates error\u001b[0m\u001b[1;33m\u001b[0m\u001b[1;33m\u001b[0m\u001b[0m\n\u001b[0m",
      "\u001b[1;31mIndexError\u001b[0m: list index out of range"
     ]
    }
   ],
   "source": [
    "print(lst_2[0])\n",
    "print(lst_2[1])\n",
    "print(lst_2[2])\n",
    "print(lst_2[3]) # It generates error"
   ]
  },
  {
   "cell_type": "markdown",
   "id": "4d8838fa",
   "metadata": {
    "id": "4d8838fa"
   },
   "source": [
    "# Negative Indexing:\n",
    "\n",
    "Similar to positive indexing, negative indexing is also used to access items, but from the end of the list. The last item has index [-1], second last item has index [-2], third last item has index [-3] and so on.\n"
   ]
  },
  {
   "cell_type": "code",
   "execution_count": null,
   "id": "3b4fd4d6",
   "metadata": {
    "id": "3b4fd4d6",
    "outputId": "d9d6fb43-94f5-420a-df44-5ce0e6b7bb9b"
   },
   "outputs": [
    {
     "name": "stdout",
     "output_type": "stream",
     "text": [
      "Purple\n",
      "Yellow\n",
      "Gray\n",
      "Blue\n",
      "Green\n",
      "Red\n"
     ]
    }
   ],
   "source": [
    "lst_3 = [\"Red\" , \"Green\" , \"Blue\" , \"Gray\" , \"Yellow\" , \"Purple\"]\n",
    "#        [-6]      [-5]     [-4]     [-3]      [-2]      [-1]\n",
    "\n",
    "print(lst_3[-1])\n",
    "print(lst_3[-2])\n",
    "print(lst_3[-3])\n",
    "print(lst_3[-4])\n",
    "print(lst_3[-5])\n",
    "print(lst_3[-6])"
   ]
  },
  {
   "cell_type": "markdown",
   "id": "e1c7aee6",
   "metadata": {
    "id": "e1c7aee6"
   },
   "source": [
    "### Check whether an item in present in the list?\n",
    "We can check if a given item is present in the list. This is done using the in keyword.\n"
   ]
  },
  {
   "cell_type": "code",
   "execution_count": null,
   "id": "d36f0e19",
   "metadata": {
    "id": "d36f0e19",
    "outputId": "307cafbe-d93e-4d06-a6b9-468177eb6b1c"
   },
   "outputs": [
    {
     "name": "stdout",
     "output_type": "stream",
     "text": [
      "True\n"
     ]
    }
   ],
   "source": [
    "print(\"Yellow\" in lst_3) # it generates True or False"
   ]
  },
  {
   "cell_type": "code",
   "execution_count": null,
   "id": "55564dc9",
   "metadata": {
    "id": "55564dc9",
    "outputId": "0d9c9b2b-d66b-4709-fcea-d54cf6a616d3"
   },
   "outputs": [
    {
     "name": "stdout",
     "output_type": "stream",
     "text": [
      "it is present\n"
     ]
    }
   ],
   "source": [
    "if \"Red\" in lst_3:\n",
    "    print(\"it is present\")\n",
    "else:\n",
    "    print(\"No it is not Present\")"
   ]
  },
  {
   "cell_type": "code",
   "execution_count": null,
   "id": "68302241",
   "metadata": {
    "id": "68302241",
    "outputId": "b33181cb-3fb5-4f33-9293-9c7e90c06a53"
   },
   "outputs": [
    {
     "name": "stdout",
     "output_type": "stream",
     "text": [
      "['Blue', 'Purple']\n"
     ]
    }
   ],
   "source": [
    "lst_new = []\n",
    "e_in_ele = 0\n",
    "\n",
    "for i in lst_3:\n",
    "    e_in_ele = i\n",
    "    for j in e_in_ele:\n",
    "        if \"u\" == j:\n",
    "            lst_new.append(i)\n",
    "\n",
    "\n",
    "\n",
    "print(lst_new)"
   ]
  },
  {
   "cell_type": "code",
   "execution_count": null,
   "id": "c892f2b0",
   "metadata": {
    "id": "c892f2b0",
    "outputId": "140d6a56-ddac-401a-ee6d-0c7778a9625b"
   },
   "outputs": [
    {
     "data": {
      "text/plain": [
       "['Red', 'Green', 'Blue', 'Gray', 'Yellow', 'Purple']"
      ]
     },
     "execution_count": 19,
     "metadata": {},
     "output_type": "execute_result"
    }
   ],
   "source": [
    "lst_3"
   ]
  }
 ],
 "metadata": {
  "colab": {
   "provenance": []
  },
  "kernelspec": {
   "display_name": "Python 3 (ipykernel)",
   "language": "python",
   "name": "python3"
  },
  "language_info": {
   "codemirror_mode": {
    "name": "ipython",
    "version": 3
   },
   "file_extension": ".py",
   "mimetype": "text/x-python",
   "name": "python",
   "nbconvert_exporter": "python",
   "pygments_lexer": "ipython3",
   "version": "3.11.5"
  }
 },
 "nbformat": 4,
 "nbformat_minor": 5
}
