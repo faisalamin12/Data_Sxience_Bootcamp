{
 "cells": [
  {
   "cell_type": "code",
   "execution_count": 3,
   "id": "62c4d95b",
   "metadata": {},
   "outputs": [
    {
     "name": "stdout",
     "output_type": "stream",
     "text": [
      "3\n",
      "3\n",
      "7\n",
      "10\n"
     ]
    }
   ],
   "source": [
    "tuple1 = (0, 1, 2, 3, 2, 31, 1, 3, 2, 3)\n",
    "print(tuple1.count(3))\n",
    "print(tuple1.index(3))\n",
    "print(tuple1.index(3, 4, 8))\n",
    "print(len(tuple1))\n"
   ]
  },
  {
   "cell_type": "markdown",
   "id": "8946814a",
   "metadata": {},
   "source": [
    "# Manipulating Tuples\n",
    "Tuples are immutable, hence if you want to add, remove or change tuple items, then first you must convert the tuple to a list. Then perform operation on that list and convert it back to tuple."
   ]
  },
  {
   "cell_type": "code",
   "execution_count": 2,
   "id": "fbeb9b1b",
   "metadata": {},
   "outputs": [
    {
     "name": "stdout",
     "output_type": "stream",
     "text": [
      "('Spain', 'Italy', 'Finland', 'Germany', 'Russia')\n"
     ]
    }
   ],
   "source": [
    "countries = (\"Spain\", \"Italy\", \"India\", \"England\", \"Germany\")\n",
    "temp = list(countries)\n",
    "temp.append(\"Russia\")       #add item  [S , I , I , E , G , R]\n",
    "temp.pop(3)                 #remove item [S , I , I , G , R]\n",
    "temp[2] = \"Finland\"         #change item [S , I , F , G ,R]\n",
    "countries = tuple(temp)\n",
    "print(countries)"
   ]
  },
  {
   "cell_type": "markdown",
   "id": "f0d91c0f",
   "metadata": {},
   "source": [
    "Thus, we convert the tuple to a list, manipulate items of the list using list methods, then convert list back to a tuple.\n",
    "\n",
    "However, we can directly concatenate two tuples without converting them to list."
   ]
  },
  {
   "cell_type": "code",
   "execution_count": 4,
   "id": "a1944346",
   "metadata": {},
   "outputs": [
    {
     "name": "stdout",
     "output_type": "stream",
     "text": [
      "('Pakistan', 'Afghanistan', 'Bangladesh', 'SriLanka', 'Vietnam', 'India', 'China')\n"
     ]
    }
   ],
   "source": [
    "countries = (\"Pakistan\", \"Afghanistan\", \"Bangladesh\", \"SriLanka\")\n",
    "countries2 = (\"Vietnam\", \"India\", \"China\")\n",
    "southEastAsia = countries + countries2\n",
    "print(southEastAsia)"
   ]
  },
  {
   "cell_type": "code",
   "execution_count": 9,
   "id": "64d94dbc",
   "metadata": {},
   "outputs": [
    {
     "name": "stdout",
     "output_type": "stream",
     "text": [
      "Enter your nameFaisal\n",
      "Enter  1 to assign and 2 to return: 2\n",
      "Enter Book name: Book2\n"
     ]
    }
   ],
   "source": [
    "books = [\"Book1\" , \"Book2\" , \"Book3\"]\n",
    "ass_books = []\n",
    "\n",
    "user_name = input(\"Enter your name\")\n",
    "\n",
    "ass_ret_book = int(input(\"Enter  1 to assign and 2 to return: \"))\n",
    "\n",
    "if ass_ret_book == 1:\n",
    "    book_name = input(\"Which book you want: \")\n",
    "    for i in books:\n",
    "        if i == book_name:\n",
    "            ass_books.append(book_name)\n",
    "            books.remove(book_name)\n",
    "            print(\"Your book has been assigned\")\n",
    "            print(\"\\t ==== Details ==== \\t\")\n",
    "            print(\"User Name : \" + user_name + \"\\n\" + \"Book Assigned Name: \" + book_name + \"\\nDate : 13- August - 2023\")\n",
    "            print(books , ass_books)\n",
    "            break\n",
    "elif ass_ret_book == 2 :\n",
    "    ret_book_name = input(\"Enter Book name: \")\n",
    "    for i in ass_books:\n",
    "        if i == ret_book_name:\n",
    "            books.append(ret_book_name)\n",
    "            ass_books.remove(ret_book_name)\n",
    "            print(\"Your Book has been Returned\")\n",
    "            print(\"\\t ==== Details ==== \\t\")\n",
    "            print(\"User Name : \" + user_name + \"\\n\" + \"Book Reurn Name: \" + book_name + \"\\nDate : 13- August - 2023\")\n",
    "            print(books , ass_books)\n",
    "            break\n",
    "        else:\n",
    "            print(\"No Book has been assigned with this name\")\n",
    "            "
   ]
  },
  {
   "cell_type": "code",
   "execution_count": null,
   "id": "a30b2321",
   "metadata": {},
   "outputs": [],
   "source": []
  }
 ],
 "metadata": {
  "kernelspec": {
   "display_name": "Python 3 (ipykernel)",
   "language": "python",
   "name": "python3"
  },
  "language_info": {
   "codemirror_mode": {
    "name": "ipython",
    "version": 3
   },
   "file_extension": ".py",
   "mimetype": "text/x-python",
   "name": "python",
   "nbconvert_exporter": "python",
   "pygments_lexer": "ipython3",
   "version": "3.11.5"
  }
 },
 "nbformat": 4,
 "nbformat_minor": 5
}
